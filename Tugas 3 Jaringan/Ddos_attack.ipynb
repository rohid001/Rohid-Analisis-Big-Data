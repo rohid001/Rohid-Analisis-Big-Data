{
 "cells": [
  {
   "cell_type": "code",
   "execution_count": 1,
   "metadata": {
    "collapsed": true,
    "pycharm": {
     "name": "#%%\n"
    }
   },
   "outputs": [],
   "source": [
    "#Importing Libary\n",
    "import numpy as np\n",
    "import pandas as pd\n",
    "import tensorflow as tf\n",
    "from keras import layers, models\n",
    "from keras.layers import Dropout\n",
    "from keras.models import load_model\n",
    "from sklearn.preprocessing import StandardScaler, OneHotEncoder, LabelEncoder\n",
    "from sklearn.model_selection import train_test_split\n",
    "import matplotlib.pyplot as plt\n",
    "import seaborn as sns"
   ]
  },
  {
   "cell_type": "markdown",
   "source": [
    "Eksplorasi Datasets"
   ],
   "metadata": {
    "collapsed": false,
    "pycharm": {
     "name": "#%% md\n"
    }
   }
  },
  {
   "cell_type": "code",
   "execution_count": 24,
   "outputs": [],
   "source": [
    "df = pd.read_csv('Trace.csv')"
   ],
   "metadata": {
    "collapsed": false,
    "pycharm": {
     "name": "#%%\n"
    }
   }
  },
  {
   "cell_type": "code",
   "execution_count": 25,
   "outputs": [
    {
     "data": {
      "text/plain": "    No.      Time          Source     Destination Protocol  Length   \n0     1         0     10.10.1.198  172.217.194.95  TLSv1.2   64468  \\\n1     2  0.000588     10.10.1.198  172.217.194.95  TLSv1.2   64468   \n2     3  0.000745     10.10.1.198  172.217.194.95  TLSv1.2   64468   \n3     4  0.001275     10.10.1.198  172.217.194.95  TLSv1.2   64468   \n4     5  0.002002     10.10.1.198  172.217.194.95  TLSv1.2   64468   \n..  ...       ...             ...             ...      ...     ...   \n95   96  0.015743  172.217.194.95     10.10.1.198      TCP      96   \n96   97  0.015769     10.10.1.198  172.217.194.95  TLSv1.2   64468   \n97   98  0.015813  172.217.194.95     10.10.1.198      TCP      96   \n98   99  0.015813  172.217.194.95     10.10.1.198      TCP      96   \n99  100  0.015813  172.217.194.95     10.10.1.198      TCP      96   \n\n                                                 Info  \n0                              Ignored Unknown Record  \n1                              Ignored Unknown Record  \n2                              Ignored Unknown Record  \n3                              Ignored Unknown Record  \n4                              Ignored Unknown Record  \n..                                                ...  \n95  443  >  59620 [ACK] Seq=1 Ack=4293632837 Win=1...  \n96                             Ignored Unknown Record  \n97  [TCP Dup ACK 96#1] 443  >  59620 [ACK] Seq=1 A...  \n98  [TCP Dup ACK 96#2] 443  >  59620 [ACK] Seq=1 A...  \n99  [TCP Dup ACK 96#3] 443  >  59620 [ACK] Seq=1 A...  \n\n[100 rows x 7 columns]",
      "text/html": "<div>\n<style scoped>\n    .dataframe tbody tr th:only-of-type {\n        vertical-align: middle;\n    }\n\n    .dataframe tbody tr th {\n        vertical-align: top;\n    }\n\n    .dataframe thead th {\n        text-align: right;\n    }\n</style>\n<table border=\"1\" class=\"dataframe\">\n  <thead>\n    <tr style=\"text-align: right;\">\n      <th></th>\n      <th>No.</th>\n      <th>Time</th>\n      <th>Source</th>\n      <th>Destination</th>\n      <th>Protocol</th>\n      <th>Length</th>\n      <th>Info</th>\n    </tr>\n  </thead>\n  <tbody>\n    <tr>\n      <th>0</th>\n      <td>1</td>\n      <td>0</td>\n      <td>10.10.1.198</td>\n      <td>172.217.194.95</td>\n      <td>TLSv1.2</td>\n      <td>64468</td>\n      <td>Ignored Unknown Record</td>\n    </tr>\n    <tr>\n      <th>1</th>\n      <td>2</td>\n      <td>0.000588</td>\n      <td>10.10.1.198</td>\n      <td>172.217.194.95</td>\n      <td>TLSv1.2</td>\n      <td>64468</td>\n      <td>Ignored Unknown Record</td>\n    </tr>\n    <tr>\n      <th>2</th>\n      <td>3</td>\n      <td>0.000745</td>\n      <td>10.10.1.198</td>\n      <td>172.217.194.95</td>\n      <td>TLSv1.2</td>\n      <td>64468</td>\n      <td>Ignored Unknown Record</td>\n    </tr>\n    <tr>\n      <th>3</th>\n      <td>4</td>\n      <td>0.001275</td>\n      <td>10.10.1.198</td>\n      <td>172.217.194.95</td>\n      <td>TLSv1.2</td>\n      <td>64468</td>\n      <td>Ignored Unknown Record</td>\n    </tr>\n    <tr>\n      <th>4</th>\n      <td>5</td>\n      <td>0.002002</td>\n      <td>10.10.1.198</td>\n      <td>172.217.194.95</td>\n      <td>TLSv1.2</td>\n      <td>64468</td>\n      <td>Ignored Unknown Record</td>\n    </tr>\n    <tr>\n      <th>...</th>\n      <td>...</td>\n      <td>...</td>\n      <td>...</td>\n      <td>...</td>\n      <td>...</td>\n      <td>...</td>\n      <td>...</td>\n    </tr>\n    <tr>\n      <th>95</th>\n      <td>96</td>\n      <td>0.015743</td>\n      <td>172.217.194.95</td>\n      <td>10.10.1.198</td>\n      <td>TCP</td>\n      <td>96</td>\n      <td>443  &gt;  59620 [ACK] Seq=1 Ack=4293632837 Win=1...</td>\n    </tr>\n    <tr>\n      <th>96</th>\n      <td>97</td>\n      <td>0.015769</td>\n      <td>10.10.1.198</td>\n      <td>172.217.194.95</td>\n      <td>TLSv1.2</td>\n      <td>64468</td>\n      <td>Ignored Unknown Record</td>\n    </tr>\n    <tr>\n      <th>97</th>\n      <td>98</td>\n      <td>0.015813</td>\n      <td>172.217.194.95</td>\n      <td>10.10.1.198</td>\n      <td>TCP</td>\n      <td>96</td>\n      <td>[TCP Dup ACK 96#1] 443  &gt;  59620 [ACK] Seq=1 A...</td>\n    </tr>\n    <tr>\n      <th>98</th>\n      <td>99</td>\n      <td>0.015813</td>\n      <td>172.217.194.95</td>\n      <td>10.10.1.198</td>\n      <td>TCP</td>\n      <td>96</td>\n      <td>[TCP Dup ACK 96#2] 443  &gt;  59620 [ACK] Seq=1 A...</td>\n    </tr>\n    <tr>\n      <th>99</th>\n      <td>100</td>\n      <td>0.015813</td>\n      <td>172.217.194.95</td>\n      <td>10.10.1.198</td>\n      <td>TCP</td>\n      <td>96</td>\n      <td>[TCP Dup ACK 96#3] 443  &gt;  59620 [ACK] Seq=1 A...</td>\n    </tr>\n  </tbody>\n</table>\n<p>100 rows × 7 columns</p>\n</div>"
     },
     "execution_count": 25,
     "metadata": {},
     "output_type": "execute_result"
    }
   ],
   "source": [
    "df.head(100)"
   ],
   "metadata": {
    "collapsed": false,
    "pycharm": {
     "name": "#%%\n"
    }
   }
  },
  {
   "cell_type": "code",
   "execution_count": 26,
   "outputs": [],
   "source": [
    "def label_serangan(row):\n",
    "    if \"Ignored Unknown Record\" in row[\"Info\"]:\n",
    "        return \"Serangan\"\n",
    "    else:\n",
    "        return \"Non-Serangan\"\n",
    "\n",
    "df[\"Label\"] = df.apply(label_serangan, axis=1)\n",
    "df.to_csv(\"datasets_label.csv\", index=False)"
   ],
   "metadata": {
    "collapsed": false,
    "pycharm": {
     "name": "#%%\n"
    }
   }
  },
  {
   "cell_type": "code",
   "execution_count": 27,
   "outputs": [
    {
     "data": {
      "text/plain": "      No.      Time          Source     Destination Protocol  Length   \n0       1         0     10.10.1.198  172.217.194.95  TLSv1.2   64468  \\\n1       2  0.000588     10.10.1.198  172.217.194.95  TLSv1.2   64468   \n2       3  0.000745     10.10.1.198  172.217.194.95  TLSv1.2   64468   \n3       4  0.001275     10.10.1.198  172.217.194.95  TLSv1.2   64468   \n4       5  0.002002     10.10.1.198  172.217.194.95  TLSv1.2   64468   \n..    ...       ...             ...             ...      ...     ...   \n995   996  0.030963  172.217.194.95     10.10.1.198      TCP      96   \n996   997  0.030963  172.217.194.95     10.10.1.198      TCP      96   \n997   998  0.030963  172.217.194.95     10.10.1.198      TCP      96   \n998   999  0.030963  172.217.194.95     10.10.1.198      TCP      96   \n999  1000  0.031086  172.217.194.95     10.10.1.198      TCP      96   \n\n                                                  Info         Label  \n0                               Ignored Unknown Record      Serangan  \n1                               Ignored Unknown Record      Serangan  \n2                               Ignored Unknown Record      Serangan  \n3                               Ignored Unknown Record      Serangan  \n4                               Ignored Unknown Record      Serangan  \n..                                                 ...           ...  \n995  [TCP Dup ACK 994#1] 443  >  59620 [ACK] Seq=1 ...  Non-Serangan  \n996  [TCP Dup ACK 994#2] 443  >  59620 [ACK] Seq=1 ...  Non-Serangan  \n997  [TCP Dup ACK 994#3] 443  >  59620 [ACK] Seq=1 ...  Non-Serangan  \n998  [TCP Dup ACK 994#4] 443  >  59620 [ACK] Seq=1 ...  Non-Serangan  \n999  [TCP Dup ACK 994#5] 443  >  59620 [ACK] Seq=1 ...  Non-Serangan  \n\n[1000 rows x 8 columns]",
      "text/html": "<div>\n<style scoped>\n    .dataframe tbody tr th:only-of-type {\n        vertical-align: middle;\n    }\n\n    .dataframe tbody tr th {\n        vertical-align: top;\n    }\n\n    .dataframe thead th {\n        text-align: right;\n    }\n</style>\n<table border=\"1\" class=\"dataframe\">\n  <thead>\n    <tr style=\"text-align: right;\">\n      <th></th>\n      <th>No.</th>\n      <th>Time</th>\n      <th>Source</th>\n      <th>Destination</th>\n      <th>Protocol</th>\n      <th>Length</th>\n      <th>Info</th>\n      <th>Label</th>\n    </tr>\n  </thead>\n  <tbody>\n    <tr>\n      <th>0</th>\n      <td>1</td>\n      <td>0</td>\n      <td>10.10.1.198</td>\n      <td>172.217.194.95</td>\n      <td>TLSv1.2</td>\n      <td>64468</td>\n      <td>Ignored Unknown Record</td>\n      <td>Serangan</td>\n    </tr>\n    <tr>\n      <th>1</th>\n      <td>2</td>\n      <td>0.000588</td>\n      <td>10.10.1.198</td>\n      <td>172.217.194.95</td>\n      <td>TLSv1.2</td>\n      <td>64468</td>\n      <td>Ignored Unknown Record</td>\n      <td>Serangan</td>\n    </tr>\n    <tr>\n      <th>2</th>\n      <td>3</td>\n      <td>0.000745</td>\n      <td>10.10.1.198</td>\n      <td>172.217.194.95</td>\n      <td>TLSv1.2</td>\n      <td>64468</td>\n      <td>Ignored Unknown Record</td>\n      <td>Serangan</td>\n    </tr>\n    <tr>\n      <th>3</th>\n      <td>4</td>\n      <td>0.001275</td>\n      <td>10.10.1.198</td>\n      <td>172.217.194.95</td>\n      <td>TLSv1.2</td>\n      <td>64468</td>\n      <td>Ignored Unknown Record</td>\n      <td>Serangan</td>\n    </tr>\n    <tr>\n      <th>4</th>\n      <td>5</td>\n      <td>0.002002</td>\n      <td>10.10.1.198</td>\n      <td>172.217.194.95</td>\n      <td>TLSv1.2</td>\n      <td>64468</td>\n      <td>Ignored Unknown Record</td>\n      <td>Serangan</td>\n    </tr>\n    <tr>\n      <th>...</th>\n      <td>...</td>\n      <td>...</td>\n      <td>...</td>\n      <td>...</td>\n      <td>...</td>\n      <td>...</td>\n      <td>...</td>\n      <td>...</td>\n    </tr>\n    <tr>\n      <th>995</th>\n      <td>996</td>\n      <td>0.030963</td>\n      <td>172.217.194.95</td>\n      <td>10.10.1.198</td>\n      <td>TCP</td>\n      <td>96</td>\n      <td>[TCP Dup ACK 994#1] 443  &gt;  59620 [ACK] Seq=1 ...</td>\n      <td>Non-Serangan</td>\n    </tr>\n    <tr>\n      <th>996</th>\n      <td>997</td>\n      <td>0.030963</td>\n      <td>172.217.194.95</td>\n      <td>10.10.1.198</td>\n      <td>TCP</td>\n      <td>96</td>\n      <td>[TCP Dup ACK 994#2] 443  &gt;  59620 [ACK] Seq=1 ...</td>\n      <td>Non-Serangan</td>\n    </tr>\n    <tr>\n      <th>997</th>\n      <td>998</td>\n      <td>0.030963</td>\n      <td>172.217.194.95</td>\n      <td>10.10.1.198</td>\n      <td>TCP</td>\n      <td>96</td>\n      <td>[TCP Dup ACK 994#3] 443  &gt;  59620 [ACK] Seq=1 ...</td>\n      <td>Non-Serangan</td>\n    </tr>\n    <tr>\n      <th>998</th>\n      <td>999</td>\n      <td>0.030963</td>\n      <td>172.217.194.95</td>\n      <td>10.10.1.198</td>\n      <td>TCP</td>\n      <td>96</td>\n      <td>[TCP Dup ACK 994#4] 443  &gt;  59620 [ACK] Seq=1 ...</td>\n      <td>Non-Serangan</td>\n    </tr>\n    <tr>\n      <th>999</th>\n      <td>1000</td>\n      <td>0.031086</td>\n      <td>172.217.194.95</td>\n      <td>10.10.1.198</td>\n      <td>TCP</td>\n      <td>96</td>\n      <td>[TCP Dup ACK 994#5] 443  &gt;  59620 [ACK] Seq=1 ...</td>\n      <td>Non-Serangan</td>\n    </tr>\n  </tbody>\n</table>\n<p>1000 rows × 8 columns</p>\n</div>"
     },
     "execution_count": 27,
     "metadata": {},
     "output_type": "execute_result"
    }
   ],
   "source": [
    "df.head(1000)"
   ],
   "metadata": {
    "collapsed": false,
    "pycharm": {
     "name": "#%%\n"
    }
   }
  },
  {
   "cell_type": "code",
   "execution_count": 28,
   "outputs": [
    {
     "name": "stdout",
     "output_type": "stream",
     "text": [
      "<class 'pandas.core.frame.DataFrame'>\n",
      "RangeIndex: 253675 entries, 0 to 253674\n",
      "Data columns (total 8 columns):\n",
      " #   Column       Non-Null Count   Dtype \n",
      "---  ------       --------------   ----- \n",
      " 0   No.          253675 non-null  int64 \n",
      " 1   Time         253675 non-null  object\n",
      " 2   Source       253675 non-null  object\n",
      " 3   Destination  253403 non-null  object\n",
      " 4   Protocol     253675 non-null  object\n",
      " 5   Length       253675 non-null  int64 \n",
      " 6   Info         253675 non-null  object\n",
      " 7   Label        253675 non-null  object\n",
      "dtypes: int64(2), object(6)\n",
      "memory usage: 15.5+ MB\n"
     ]
    }
   ],
   "source": [
    "df.info()"
   ],
   "metadata": {
    "collapsed": false,
    "pycharm": {
     "name": "#%%\n"
    }
   }
  },
  {
   "cell_type": "code",
   "execution_count": 29,
   "outputs": [
    {
     "data": {
      "text/plain": "<Figure size 1000x600 with 1 Axes>",
      "image/png": "[encoded data removed]"
     },
     "metadata": {},
     "output_type": "display_data"
    },
    {
     "name": "stdout",
     "output_type": "stream",
     "text": [
      "\n",
      "Statistik deskriptif untuk setiap protocol:\n",
      "                No.                                                      \n",
      "              count           mean            std       min        25%   \n",
      "Protocol                                                                 \n",
      "ARP           250.0  148606.376000   69953.682629    3477.0   88537.25  \\\n",
      "DNS            11.0   37031.636364   27333.168811   13238.0   13240.50   \n",
      "HTTP           56.0  154720.946429   63466.623965   65586.0   74623.50   \n",
      "HTTP/JSON      44.0  153274.636364   61539.743433   65588.0  117201.75   \n",
      "ICMP            1.0   65582.000000            NaN   65582.0   65582.00   \n",
      "LLDP            2.0  113042.500000  141125.078496   13252.0   63147.25   \n",
      "SSHv2           2.0  142543.500000   19150.572955  129002.0  135772.75   \n",
      "STP            20.0  148804.050000   67068.031227   21810.0   99740.75   \n",
      "TCP        244680.0  126818.146579   73234.314942      12.0   63390.75   \n",
      "TLSv1.2      8601.0  126580.662946   73161.718306       1.0   62811.00   \n",
      "TLSv1.3         8.0   65628.625000      15.518998   65600.0   65625.50   \n",
      "\n",
      "                                            Length                 \n",
      "                50%        75%       max     count          mean   \n",
      "Protocol                                                           \n",
      "ARP        158534.0  217319.50  253650.0     250.0     61.856000  \\\n",
      "DNS         13245.0   65579.50   65583.0      11.0    146.272727   \n",
      "HTTP       162861.0  230950.50  244697.0      56.0    715.857143   \n",
      "HTTP/JSON  159827.0  193818.75  230991.0      44.0   2251.363636   \n",
      "ICMP        65582.0   65582.00   65582.0       1.0    247.000000   \n",
      "LLDP       113042.5  162937.75  212833.0       2.0    352.000000   \n",
      "SSHv2      142543.5  149314.25  156085.0       2.0     75.500000   \n",
      "STP        156980.5  197273.25  249133.0      20.0    121.000000   \n",
      "TCP        126785.5  190244.25  253675.0  244680.0    102.911354   \n",
      "TLSv1.2    126685.0  190595.00  253671.0    8601.0  54713.585513   \n",
      "TLSv1.3     65634.5   65638.00   65642.0       8.0   1318.625000   \n",
      "\n",
      "                                                                       \n",
      "                    std     min       25%      50%       75%      max  \n",
      "Protocol                                                               \n",
      "ARP            1.606733    44.0     62.00     62.0     62.00     62.0  \n",
      "DNS           63.744946    91.0     91.00     91.0    211.00    219.0  \n",
      "HTTP         701.220091   342.0    388.00    631.0    635.00   3591.0  \n",
      "HTTP/JSON    652.079931  1327.0   1768.00   1965.0   2667.00   3515.0  \n",
      "ICMP                NaN   247.0    247.00    247.0    247.00    247.0  \n",
      "LLDP           0.000000   352.0    352.00    352.0    352.00    352.0  \n",
      "SSHv2          6.363961    71.0     73.25     75.5     77.75     80.0  \n",
      "STP            0.000000   121.0    121.00    121.0    121.00    121.0  \n",
      "TCP          261.978829    56.0     96.00     96.0     96.00  64468.0  \n",
      "TLSv1.2    19117.456882    95.0  64468.00  64468.0  64468.00  64468.0  \n",
      "TLSv1.3     1214.772987   132.0    283.50   1137.0   2172.75   2868.0  \n"
     ]
    }
   ],
   "source": [
    "# Menampilkan jumlah setiap kategori\n",
    "category_counts = df['Protocol'].value_counts()\n",
    "\n",
    "# Plotting jumlah setiap kategori\n",
    "plt.figure(figsize=(10, 6))\n",
    "sns.countplot(y='Protocol', data=df, order=category_counts.index)\n",
    "plt.xlabel('Count')\n",
    "plt.ylabel('Protocol')\n",
    "plt.title('Distribution of Protocol')\n",
    "plt.show()\n",
    "\n",
    "# Menampilkan statistik deskriptif\n",
    "protocol_graf = df.groupby('Protocol').describe()\n",
    "print(\"\\nStatistik deskriptif untuk setiap protocol:\")\n",
    "print(protocol_graf)\n"
   ],
   "metadata": {
    "collapsed": false,
    "pycharm": {
     "name": "#%%\n"
    }
   }
  },
  {
   "cell_type": "markdown",
   "source": [
    "Filtering Protocol"
   ],
   "metadata": {
    "collapsed": false,
    "pycharm": {
     "name": "#%% md\n"
    }
   }
  },
  {
   "cell_type": "code",
   "execution_count": 30,
   "outputs": [],
   "source": [
    "##### Focus on TLSV1.2 #####\n",
    "#####################\n",
    "df = df[df[\"Protocol\"] == \"TLSv1.2\"]\n",
    "# Delete Column \"No.\"\n",
    "df = df.drop(\"No.\", axis=1)\n",
    "\n",
    "# Menyimpan dataset yang sudah diubah\n",
    "df.to_csv(\"dataset_TCP.csv\", index=False)"
   ],
   "metadata": {
    "collapsed": false,
    "pycharm": {
     "name": "#%%\n"
    }
   }
  },
  {
   "cell_type": "code",
   "execution_count": 31,
   "outputs": [
    {
     "data": {
      "text/plain": "            Time       Source     Destination Protocol  Length   \n0              0  10.10.1.198  172.217.194.95  TLSv1.2   64468  \\\n1       0.000588  10.10.1.198  172.217.194.95  TLSv1.2   64468   \n2       0.000745  10.10.1.198  172.217.194.95  TLSv1.2   64468   \n3       0.001275  10.10.1.198  172.217.194.95  TLSv1.2   64468   \n4       0.002002  10.10.1.198  172.217.194.95  TLSv1.2   64468   \n...          ...          ...             ...      ...     ...   \n29864  2.408.030  10.10.1.198  172.217.194.95  TLSv1.2   64468   \n29865  2.408.065  10.10.1.198  172.217.194.95  TLSv1.2   64468   \n29866  2.411.018  10.10.1.198  172.217.194.95  TLSv1.2   64468   \n29867  2.411.060  10.10.1.198  172.217.194.95  TLSv1.2   64468   \n29868  2.411.082  10.10.1.198  172.217.194.95  TLSv1.2   64468   \n\n                                                    Info         Label  \n0                                 Ignored Unknown Record      Serangan  \n1                                 Ignored Unknown Record      Serangan  \n2                                 Ignored Unknown Record      Serangan  \n3                                 Ignored Unknown Record      Serangan  \n4                                 Ignored Unknown Record      Serangan  \n...                                                  ...           ...  \n29864  Application Data, Application Data, Applicatio...  Non-Serangan  \n29865  Application Data, Application Data, Applicatio...  Non-Serangan  \n29866  Application Data, Application Data, Applicatio...  Non-Serangan  \n29867  Application Data, Application Data, Applicatio...  Non-Serangan  \n29868  Application Data, Application Data, Applicatio...  Non-Serangan  \n\n[1000 rows x 7 columns]",
      "text/html": "<div>\n<style scoped>\n    .dataframe tbody tr th:only-of-type {\n        vertical-align: middle;\n    }\n\n    .dataframe tbody tr th {\n        vertical-align: top;\n    }\n\n    .dataframe thead th {\n        text-align: right;\n    }\n</style>\n<table border=\"1\" class=\"dataframe\">\n  <thead>\n    <tr style=\"text-align: right;\">\n      <th></th>\n      <th>Time</th>\n      <th>Source</th>\n      <th>Destination</th>\n      <th>Protocol</th>\n      <th>Length</th>\n      <th>Info</th>\n      <th>Label</th>\n    </tr>\n  </thead>\n  <tbody>\n    <tr>\n      <th>0</th>\n      <td>0</td>\n      <td>10.10.1.198</td>\n      <td>172.217.194.95</td>\n      <td>TLSv1.2</td>\n      <td>64468</td>\n      <td>Ignored Unknown Record</td>\n      <td>Serangan</td>\n    </tr>\n    <tr>\n      <th>1</th>\n      <td>0.000588</td>\n      <td>10.10.1.198</td>\n      <td>172.217.194.95</td>\n      <td>TLSv1.2</td>\n      <td>64468</td>\n      <td>Ignored Unknown Record</td>\n      <td>Serangan</td>\n    </tr>\n    <tr>\n      <th>2</th>\n      <td>0.000745</td>\n      <td>10.10.1.198</td>\n      <td>172.217.194.95</td>\n      <td>TLSv1.2</td>\n      <td>64468</td>\n      <td>Ignored Unknown Record</td>\n      <td>Serangan</td>\n    </tr>\n    <tr>\n      <th>3</th>\n      <td>0.001275</td>\n      <td>10.10.1.198</td>\n      <td>172.217.194.95</td>\n      <td>TLSv1.2</td>\n      <td>64468</td>\n      <td>Ignored Unknown Record</td>\n      <td>Serangan</td>\n    </tr>\n    <tr>\n      <th>4</th>\n      <td>0.002002</td>\n      <td>10.10.1.198</td>\n      <td>172.217.194.95</td>\n      <td>TLSv1.2</td>\n      <td>64468</td>\n      <td>Ignored Unknown Record</td>\n      <td>Serangan</td>\n    </tr>\n    <tr>\n      <th>...</th>\n      <td>...</td>\n      <td>...</td>\n      <td>...</td>\n      <td>...</td>\n      <td>...</td>\n      <td>...</td>\n      <td>...</td>\n    </tr>\n    <tr>\n      <th>29864</th>\n      <td>2.408.030</td>\n      <td>10.10.1.198</td>\n      <td>172.217.194.95</td>\n      <td>TLSv1.2</td>\n      <td>64468</td>\n      <td>Application Data, Application Data, Applicatio...</td>\n      <td>Non-Serangan</td>\n    </tr>\n    <tr>\n      <th>29865</th>\n      <td>2.408.065</td>\n      <td>10.10.1.198</td>\n      <td>172.217.194.95</td>\n      <td>TLSv1.2</td>\n      <td>64468</td>\n      <td>Application Data, Application Data, Applicatio...</td>\n      <td>Non-Serangan</td>\n    </tr>\n    <tr>\n      <th>29866</th>\n      <td>2.411.018</td>\n      <td>10.10.1.198</td>\n      <td>172.217.194.95</td>\n      <td>TLSv1.2</td>\n      <td>64468</td>\n      <td>Application Data, Application Data, Applicatio...</td>\n      <td>Non-Serangan</td>\n    </tr>\n    <tr>\n      <th>29867</th>\n      <td>2.411.060</td>\n      <td>10.10.1.198</td>\n      <td>172.217.194.95</td>\n      <td>TLSv1.2</td>\n      <td>64468</td>\n      <td>Application Data, Application Data, Applicatio...</td>\n      <td>Non-Serangan</td>\n    </tr>\n    <tr>\n      <th>29868</th>\n      <td>2.411.082</td>\n      <td>10.10.1.198</td>\n      <td>172.217.194.95</td>\n      <td>TLSv1.2</td>\n      <td>64468</td>\n      <td>Application Data, Application Data, Applicatio...</td>\n      <td>Non-Serangan</td>\n    </tr>\n  </tbody>\n</table>\n<p>1000 rows × 7 columns</p>\n</div>"
     },
     "execution_count": 31,
     "metadata": {},
     "output_type": "execute_result"
    }
   ],
   "source": [
    "df.head(1000)"
   ],
   "metadata": {
    "collapsed": false,
    "pycharm": {
     "name": "#%%\n"
    }
   }
  },
  {
   "cell_type": "code",
   "execution_count": 40,
   "outputs": [
    {
     "name": "stdout",
     "output_type": "stream",
     "text": [
      "<class 'pandas.core.frame.DataFrame'>\n",
      "Index: 8601 entries, 0 to 253670\n",
      "Data columns (total 7 columns):\n",
      " #   Column       Non-Null Count  Dtype\n",
      "---  ------       --------------  -----\n",
      " 0   Time         8601 non-null   int32\n",
      " 1   Source       8601 non-null   int32\n",
      " 2   Destination  8601 non-null   int32\n",
      " 3   Protocol     8601 non-null   int32\n",
      " 4   Length       8601 non-null   int64\n",
      " 5   Info         8601 non-null   int32\n",
      " 6   Label        8601 non-null   int32\n",
      "dtypes: int32(6), int64(1)\n",
      "memory usage: 336.0 KB\n"
     ]
    }
   ],
   "source": [
    "df.info()"
   ],
   "metadata": {
    "collapsed": false,
    "pycharm": {
     "name": "#%%\n"
    }
   }
  },
  {
   "cell_type": "markdown",
   "source": [
    "Labeling"
   ],
   "metadata": {
    "collapsed": false,
    "pycharm": {
     "name": "#%% md\n"
    }
   }
  },
  {
   "cell_type": "code",
   "execution_count": 41,
   "outputs": [
    {
     "data": {
      "text/plain": "Time           int32\nSource         int32\nDestination    int32\nProtocol       int32\nLength         int64\nInfo           int32\nLabel          int32\ndtype: object"
     },
     "execution_count": 41,
     "metadata": {},
     "output_type": "execute_result"
    }
   ],
   "source": [
    "le = LabelEncoder()\n",
    "for column in df.columns:\n",
    "    if df[column].dtype == 'float64':\n",
    "        df[column] = le.fit_transform(df[column])\n",
    "    if df[column].dtype == 'object':\n",
    "        df[column] = le.fit_transform(df[column])\n",
    "df.dtypes"
   ],
   "metadata": {
    "collapsed": false,
    "pycharm": {
     "name": "#%%\n"
    }
   }
  },
  {
   "cell_type": "code",
   "execution_count": 42,
   "outputs": [
    {
     "data": {
      "text/plain": "       Time  Source  Destination  Protocol  Length  Info  Label\n0         0       0            1         0   64468     6      1\n1         1       0            1         0   64468     6      1\n2         2       0            1         0   64468     6      1\n3         3       0            1         0   64468     6      1\n4         4       0            1         0   64468     6      1\n...     ...     ...          ...       ...     ...   ...    ...\n29864  3363       0            1         0   64468     3      0\n29865  3364       0            1         0   64468     3      0\n29866  3365       0            1         0   64468     3      0\n29867  3366       0            1         0   64468     3      0\n29868  3367       0            1         0   64468     3      0\n\n[1000 rows x 7 columns]",
      "text/html": "<div>\n<style scoped>\n    .dataframe tbody tr th:only-of-type {\n        vertical-align: middle;\n    }\n\n    .dataframe tbody tr th {\n        vertical-align: top;\n    }\n\n    .dataframe thead th {\n        text-align: right;\n    }\n</style>\n<table border=\"1\" class=\"dataframe\">\n  <thead>\n    <tr style=\"text-align: right;\">\n      <th></th>\n      <th>Time</th>\n      <th>Source</th>\n      <th>Destination</th>\n      <th>Protocol</th>\n      <th>Length</th>\n      <th>Info</th>\n      <th>Label</th>\n    </tr>\n  </thead>\n  <tbody>\n    <tr>\n      <th>0</th>\n      <td>0</td>\n      <td>0</td>\n      <td>1</td>\n      <td>0</td>\n      <td>64468</td>\n      <td>6</td>\n      <td>1</td>\n    </tr>\n    <tr>\n      <th>1</th>\n      <td>1</td>\n      <td>0</td>\n      <td>1</td>\n      <td>0</td>\n      <td>64468</td>\n      <td>6</td>\n      <td>1</td>\n    </tr>\n    <tr>\n      <th>2</th>\n      <td>2</td>\n      <td>0</td>\n      <td>1</td>\n      <td>0</td>\n      <td>64468</td>\n      <td>6</td>\n      <td>1</td>\n    </tr>\n    <tr>\n      <th>3</th>\n      <td>3</td>\n      <td>0</td>\n      <td>1</td>\n      <td>0</td>\n      <td>64468</td>\n      <td>6</td>\n      <td>1</td>\n    </tr>\n    <tr>\n      <th>4</th>\n      <td>4</td>\n      <td>0</td>\n      <td>1</td>\n      <td>0</td>\n      <td>64468</td>\n      <td>6</td>\n      <td>1</td>\n    </tr>\n    <tr>\n      <th>...</th>\n      <td>...</td>\n      <td>...</td>\n      <td>...</td>\n      <td>...</td>\n      <td>...</td>\n      <td>...</td>\n      <td>...</td>\n    </tr>\n    <tr>\n      <th>29864</th>\n      <td>3363</td>\n      <td>0</td>\n      <td>1</td>\n      <td>0</td>\n      <td>64468</td>\n      <td>3</td>\n      <td>0</td>\n    </tr>\n    <tr>\n      <th>29865</th>\n      <td>3364</td>\n      <td>0</td>\n      <td>1</td>\n      <td>0</td>\n      <td>64468</td>\n      <td>3</td>\n      <td>0</td>\n    </tr>\n    <tr>\n      <th>29866</th>\n      <td>3365</td>\n      <td>0</td>\n      <td>1</td>\n      <td>0</td>\n      <td>64468</td>\n      <td>3</td>\n      <td>0</td>\n    </tr>\n    <tr>\n      <th>29867</th>\n      <td>3366</td>\n      <td>0</td>\n      <td>1</td>\n      <td>0</td>\n      <td>64468</td>\n      <td>3</td>\n      <td>0</td>\n    </tr>\n    <tr>\n      <th>29868</th>\n      <td>3367</td>\n      <td>0</td>\n      <td>1</td>\n      <td>0</td>\n      <td>64468</td>\n      <td>3</td>\n      <td>0</td>\n    </tr>\n  </tbody>\n</table>\n<p>1000 rows × 7 columns</p>\n</div>"
     },
     "execution_count": 42,
     "metadata": {},
     "output_type": "execute_result"
    }
   ],
   "source": [
    "df.head(1000)"
   ],
   "metadata": {
    "collapsed": false,
    "pycharm": {
     "name": "#%%\n"
    }
   }
  },
  {
   "cell_type": "markdown",
   "source": [
    "Split Dataset"
   ],
   "metadata": {
    "collapsed": false,
    "pycharm": {
     "name": "#%% md\n"
    }
   }
  },
  {
   "cell_type": "code",
   "execution_count": 43,
   "outputs": [],
   "source": [
    "#Splitting datasets into train and validation : 80% train and 20% validation\n",
    "X = df.drop('Label', axis=1)\n",
    "y = df['Label']\n",
    "x_train,x_val,y_train, y_val = train_test_split(X, y, test_size=0.2, random_state=42)\n",
    "\n",
    "#Convert Dataframe to array Numpy\n",
    "x_train = np.array(x_train)\n",
    "x_val = np.array(x_val)\n",
    "\n",
    "# Reshape the data for input to CNN 1D\n",
    "x_train = x_train.reshape(x_train.shape[0],x_train.shape[1], 1)\n",
    "x_val = x_val.reshape(x_val.shape[0], x_val.shape[1], 1)"
   ],
   "metadata": {
    "collapsed": false,
    "pycharm": {
     "name": "#%%\n"
    }
   }
  },
  {
   "cell_type": "markdown",
   "source": [
    "Modeling"
   ],
   "metadata": {
    "collapsed": false,
    "pycharm": {
     "name": "#%% md\n"
    }
   }
  },
  {
   "cell_type": "code",
   "execution_count": 44,
   "outputs": [
    {
     "name": "stdout",
     "output_type": "stream",
     "text": [
      "Epoch 1/20\n",
      "108/108 [==============================] - 3s 20ms/step - loss: 1.7150 - accuracy: 0.9799 - val_loss: 0.2803 - val_accuracy: 0.9907\n",
      "Epoch 2/20\n",
      "108/108 [==============================] - 2s 16ms/step - loss: 0.4500 - accuracy: 0.9847 - val_loss: 0.1263 - val_accuracy: 0.9907\n",
      "Epoch 3/20\n",
      "108/108 [==============================] - 2s 20ms/step - loss: 0.2414 - accuracy: 0.9881 - val_loss: 0.0987 - val_accuracy: 0.9907\n",
      "Epoch 4/20\n",
      "108/108 [==============================] - 3s 24ms/step - loss: 0.2391 - accuracy: 0.9866 - val_loss: 0.1152 - val_accuracy: 0.9907\n",
      "Epoch 5/20\n",
      "108/108 [==============================] - 2s 22ms/step - loss: 0.1722 - accuracy: 0.9872 - val_loss: 0.0837 - val_accuracy: 0.9907\n",
      "Epoch 6/20\n",
      "108/108 [==============================] - 2s 18ms/step - loss: 0.1377 - accuracy: 0.9882 - val_loss: 0.0687 - val_accuracy: 0.9907\n",
      "Epoch 7/20\n",
      "108/108 [==============================] - 2s 17ms/step - loss: 0.1096 - accuracy: 0.9874 - val_loss: 0.0692 - val_accuracy: 0.9907\n",
      "Epoch 8/20\n",
      "108/108 [==============================] - 2s 17ms/step - loss: 0.1092 - accuracy: 0.9884 - val_loss: 0.0701 - val_accuracy: 0.9907\n",
      "Epoch 9/20\n",
      "108/108 [==============================] - 2s 17ms/step - loss: 0.0834 - accuracy: 0.9891 - val_loss: 0.0649 - val_accuracy: 0.9907\n",
      "Epoch 10/20\n",
      "108/108 [==============================] - 2s 18ms/step - loss: 0.0930 - accuracy: 0.9894 - val_loss: 0.0668 - val_accuracy: 0.9907\n",
      "Epoch 11/20\n",
      "108/108 [==============================] - 2s 17ms/step - loss: 0.0718 - accuracy: 0.9894 - val_loss: 0.0613 - val_accuracy: 0.9907\n",
      "Epoch 12/20\n",
      "108/108 [==============================] - 2s 16ms/step - loss: 0.0734 - accuracy: 0.9895 - val_loss: 0.0593 - val_accuracy: 0.9907\n",
      "Epoch 13/20\n",
      "108/108 [==============================] - 2s 17ms/step - loss: 0.0804 - accuracy: 0.9894 - val_loss: 0.0585 - val_accuracy: 0.9907\n",
      "Epoch 14/20\n",
      "108/108 [==============================] - 2s 17ms/step - loss: 0.0680 - accuracy: 0.9892 - val_loss: 0.0565 - val_accuracy: 0.9907\n",
      "Epoch 15/20\n",
      "108/108 [==============================] - 2s 21ms/step - loss: 0.0713 - accuracy: 0.9897 - val_loss: 0.0554 - val_accuracy: 0.9907\n",
      "Epoch 16/20\n",
      "108/108 [==============================] - 2s 18ms/step - loss: 0.0615 - accuracy: 0.9895 - val_loss: 0.0541 - val_accuracy: 0.9907\n",
      "Epoch 17/20\n",
      "108/108 [==============================] - 2s 21ms/step - loss: 0.0604 - accuracy: 0.9897 - val_loss: 0.0544 - val_accuracy: 0.9907\n",
      "Epoch 18/20\n",
      "108/108 [==============================] - 2s 18ms/step - loss: 0.0619 - accuracy: 0.9897 - val_loss: 0.0525 - val_accuracy: 0.9907\n",
      "Epoch 19/20\n",
      "108/108 [==============================] - 2s 18ms/step - loss: 0.0629 - accuracy: 0.9895 - val_loss: 0.0525 - val_accuracy: 0.9907\n",
      "Epoch 20/20\n",
      "108/108 [==============================] - 2s 18ms/step - loss: 0.0539 - accuracy: 0.9897 - val_loss: 0.0534 - val_accuracy: 0.9907\n"
     ]
    }
   ],
   "source": [
    "# Arsitektur model\n",
    "model = models.Sequential([\n",
    "    layers.Conv1D(filters =16, kernel_size=1, activation='relu', input_shape=(x_train.shape[1],1)),\n",
    "    layers.MaxPooling1D(pool_size=2),\n",
    "    layers.Conv1D(filters=32, kernel_size=1, activation='relu'),\n",
    "    layers.MaxPooling1D(pool_size=2),\n",
    "    layers.Flatten(),\n",
    "    layers.Dense(128, activation='relu'),\n",
    "    layers.Dropout(0.5),\n",
    "    layers.Dense(64, activation='relu'),\n",
    "    layers.Dense(32, activation='relu'),\n",
    "    layers.Dense(16, activation='relu'),\n",
    "    layers.Dense(1, activation='sigmoid')\n",
    "])\n",
    "\n",
    "optimizer = tf.keras.optimizers.Adam(learning_rate=0.001)\n",
    "\n",
    "# Kompilasi model dengan optimizer dan loss function\n",
    "model.compile(optimizer=optimizer, loss='binary_crossentropy', metrics=['accuracy'])\n",
    "\n",
    "# Latih model\n",
    "model_train = model.fit(x_train, y_train, epochs=20, batch_size=64, validation_data=(x_val, y_val))"
   ],
   "metadata": {
    "collapsed": false,
    "pycharm": {
     "name": "#%%\n"
    }
   }
  },
  {
   "cell_type": "code",
   "execution_count": 45,
   "outputs": [],
   "source": [
    "model.save('model.h5')"
   ],
   "metadata": {
    "collapsed": false,
    "pycharm": {
     "name": "#%%\n"
    }
   }
  },
  {
   "cell_type": "markdown",
   "source": [
    "Evaluasi"
   ],
   "metadata": {
    "collapsed": false,
    "pycharm": {
     "name": "#%% md\n"
    }
   }
  },
  {
   "cell_type": "code",
   "execution_count": 46,
   "outputs": [
    {
     "name": "stdout",
     "output_type": "stream",
     "text": [
      "215/215 [==============================] - 2s 8ms/step - loss: 0.0602 - accuracy: 0.9897\n",
      "Loss: 0.06019529327750206\n",
      "Accuracy: 0.9896802306175232\n"
     ]
    }
   ],
   "source": [
    "# Evaluasi model\n",
    "loss, accuracy = model.evaluate(x_train, y_train)\n",
    "print(\"Loss:\", loss)\n",
    "print(\"Accuracy:\", accuracy)"
   ],
   "metadata": {
    "collapsed": false,
    "pycharm": {
     "name": "#%%\n"
    }
   }
  },
  {
   "cell_type": "code",
   "execution_count": 47,
   "outputs": [
    {
     "name": "stdout",
     "output_type": "stream",
     "text": [
      "54/54 [==============================] - 0s 5ms/step\n",
      "Classisfication Report:\n",
      "               precision    recall  f1-score   support\n",
      "\n",
      "           0       0.99      1.00      1.00      1705\n",
      "           1       0.00      0.00      0.00        16\n",
      "\n",
      "    accuracy                           0.99      1721\n",
      "   macro avg       0.50      0.50      0.50      1721\n",
      "weighted avg       0.98      0.99      0.99      1721\n",
      "\n",
      "Confusion metrix:\n",
      " [[1705    0]\n",
      " [  16    0]]\n"
     ]
    },
    {
     "name": "stderr",
     "output_type": "stream",
     "text": [
      "C:\\Users\\USER\\AnalisisBigData\\lib\\site-packages\\sklearn\\metrics\\_classification.py:1344: UndefinedMetricWarning: Precision and F-score are ill-defined and being set to 0.0 in labels with no predicted samples. Use `zero_division` parameter to control this behavior.\n",
      "  _warn_prf(average, modifier, msg_start, len(result))\n",
      "C:\\Users\\USER\\AnalisisBigData\\lib\\site-packages\\sklearn\\metrics\\_classification.py:1344: UndefinedMetricWarning: Precision and F-score are ill-defined and being set to 0.0 in labels with no predicted samples. Use `zero_division` parameter to control this behavior.\n",
      "  _warn_prf(average, modifier, msg_start, len(result))\n",
      "C:\\Users\\USER\\AnalisisBigData\\lib\\site-packages\\sklearn\\metrics\\_classification.py:1344: UndefinedMetricWarning: Precision and F-score are ill-defined and being set to 0.0 in labels with no predicted samples. Use `zero_division` parameter to control this behavior.\n",
      "  _warn_prf(average, modifier, msg_start, len(result))\n"
     ]
    }
   ],
   "source": [
    "from sklearn.metrics import classification_report\n",
    "from sklearn.metrics import confusion_matrix\n",
    "\n",
    "#predict on validation set\n",
    "y_pred = model.predict(x_val)\n",
    "y_pred_classes = (y_pred > 0.5).astype(int)\n",
    "\n",
    "#Print classification report\n",
    "print(\"Classisfication Report:\\n\", classification_report(y_val, y_pred_classes))\n",
    "\n",
    "#Print confusion matrix\n",
    "print(\"Confusion metrix:\\n\", confusion_matrix(y_val, y_pred_classes))\n"
   ],
   "metadata": {
    "collapsed": false,
    "pycharm": {
     "name": "#%%\n"
    }
   }
  },
  {
   "cell_type": "markdown",
   "source": [
    "Testing"
   ],
   "metadata": {
    "collapsed": false,
    "pycharm": {
     "name": "#%% md\n"
    }
   }
  },
  {
   "cell_type": "code",
   "execution_count": 48,
   "outputs": [],
   "source": [
    "dftest = pd.read_csv('test.csv')"
   ],
   "metadata": {
    "collapsed": false,
    "pycharm": {
     "name": "#%%\n"
    }
   }
  },
  {
   "cell_type": "code",
   "execution_count": 21,
   "outputs": [
    {
     "data": {
      "text/plain": "      No.      Time          Source  Destination Protocol  Length  \\\n0       1  0.000000  172.217.194.95  10.10.1.198      TCP      96   \n1       2  0.000000  172.217.194.95  10.10.1.198      TCP      96   \n2       3  0.000000  172.217.194.95  10.10.1.198      TCP      96   \n3       4  0.000101  172.217.194.95  10.10.1.198      TCP      96   \n4       5  0.000101  172.217.194.95  10.10.1.198      TCP      96   \n..    ...       ...             ...          ...      ...     ...   \n995   996  0.021872  172.217.194.95  10.10.1.198      TCP      96   \n996   997  0.021872  172.217.194.95  10.10.1.198      TCP      96   \n997   998  0.021872  172.217.194.95  10.10.1.198      TCP      96   \n998   999  0.021935  172.217.194.95  10.10.1.198      TCP      96   \n999  1000  0.021935  172.217.194.95  10.10.1.198      TCP      96   \n\n                                                  Info  \n0    443  >  59620 [ACK] Seq=1 Ack=1 Win=15371 Len=...  \n1    [TCP Dup ACK 1#1] 443  >  59620 [ACK] Seq=1 Ac...  \n2    [TCP Dup ACK 1#2] 443  >  59620 [ACK] Seq=1 Ac...  \n3    443  >  59620 [ACK] Seq=1 Ack=1401 Win=15371 L...  \n4    [TCP Dup ACK 4#1] 443  >  59620 [ACK] Seq=1 Ac...  \n..                                                 ...  \n995  [TCP Dup ACK 995#1] 443  >  59620 [ACK] Seq=1 ...  \n996  [TCP Dup ACK 995#2] 443  >  59620 [ACK] Seq=1 ...  \n997  443  >  59620 [ACK] Seq=1 Ack=1845313 Win=1537...  \n998  [TCP Dup ACK 998#1] 443  >  59620 [ACK] Seq=1 ...  \n999  443  >  59620 [ACK] Seq=1 Ack=1852313 Win=1537...  \n\n[1000 rows x 7 columns]",
      "text/html": "<div>\n<style scoped>\n    .dataframe tbody tr th:only-of-type {\n        vertical-align: middle;\n    }\n\n    .dataframe tbody tr th {\n        vertical-align: top;\n    }\n\n    .dataframe thead th {\n        text-align: right;\n    }\n</style>\n<table border=\"1\" class=\"dataframe\">\n  <thead>\n    <tr style=\"text-align: right;\">\n      <th></th>\n      <th>No.</th>\n      <th>Time</th>\n      <th>Source</th>\n      <th>Destination</th>\n      <th>Protocol</th>\n      <th>Length</th>\n      <th>Info</th>\n    </tr>\n  </thead>\n  <tbody>\n    <tr>\n      <th>0</th>\n      <td>1</td>\n      <td>0.000000</td>\n      <td>172.217.194.95</td>\n      <td>10.10.1.198</td>\n      <td>TCP</td>\n      <td>96</td>\n      <td>443  &gt;  59620 [ACK] Seq=1 Ack=1 Win=15371 Len=...</td>\n    </tr>\n    <tr>\n      <th>1</th>\n      <td>2</td>\n      <td>0.000000</td>\n      <td>172.217.194.95</td>\n      <td>10.10.1.198</td>\n      <td>TCP</td>\n      <td>96</td>\n      <td>[TCP Dup ACK 1#1] 443  &gt;  59620 [ACK] Seq=1 Ac...</td>\n    </tr>\n    <tr>\n      <th>2</th>\n      <td>3</td>\n      <td>0.000000</td>\n      <td>172.217.194.95</td>\n      <td>10.10.1.198</td>\n      <td>TCP</td>\n      <td>96</td>\n      <td>[TCP Dup ACK 1#2] 443  &gt;  59620 [ACK] Seq=1 Ac...</td>\n    </tr>\n    <tr>\n      <th>3</th>\n      <td>4</td>\n      <td>0.000101</td>\n      <td>172.217.194.95</td>\n      <td>10.10.1.198</td>\n      <td>TCP</td>\n      <td>96</td>\n      <td>443  &gt;  59620 [ACK] Seq=1 Ack=1401 Win=15371 L...</td>\n    </tr>\n    <tr>\n      <th>4</th>\n      <td>5</td>\n      <td>0.000101</td>\n      <td>172.217.194.95</td>\n      <td>10.10.1.198</td>\n      <td>TCP</td>\n      <td>96</td>\n      <td>[TCP Dup ACK 4#1] 443  &gt;  59620 [ACK] Seq=1 Ac...</td>\n    </tr>\n    <tr>\n      <th>...</th>\n      <td>...</td>\n      <td>...</td>\n      <td>...</td>\n      <td>...</td>\n      <td>...</td>\n      <td>...</td>\n      <td>...</td>\n    </tr>\n    <tr>\n      <th>995</th>\n      <td>996</td>\n      <td>0.021872</td>\n      <td>172.217.194.95</td>\n      <td>10.10.1.198</td>\n      <td>TCP</td>\n      <td>96</td>\n      <td>[TCP Dup ACK 995#1] 443  &gt;  59620 [ACK] Seq=1 ...</td>\n    </tr>\n    <tr>\n      <th>996</th>\n      <td>997</td>\n      <td>0.021872</td>\n      <td>172.217.194.95</td>\n      <td>10.10.1.198</td>\n      <td>TCP</td>\n      <td>96</td>\n      <td>[TCP Dup ACK 995#2] 443  &gt;  59620 [ACK] Seq=1 ...</td>\n    </tr>\n    <tr>\n      <th>997</th>\n      <td>998</td>\n      <td>0.021872</td>\n      <td>172.217.194.95</td>\n      <td>10.10.1.198</td>\n      <td>TCP</td>\n      <td>96</td>\n      <td>443  &gt;  59620 [ACK] Seq=1 Ack=1845313 Win=1537...</td>\n    </tr>\n    <tr>\n      <th>998</th>\n      <td>999</td>\n      <td>0.021935</td>\n      <td>172.217.194.95</td>\n      <td>10.10.1.198</td>\n      <td>TCP</td>\n      <td>96</td>\n      <td>[TCP Dup ACK 998#1] 443  &gt;  59620 [ACK] Seq=1 ...</td>\n    </tr>\n    <tr>\n      <th>999</th>\n      <td>1000</td>\n      <td>0.021935</td>\n      <td>172.217.194.95</td>\n      <td>10.10.1.198</td>\n      <td>TCP</td>\n      <td>96</td>\n      <td>443  &gt;  59620 [ACK] Seq=1 Ack=1852313 Win=1537...</td>\n    </tr>\n  </tbody>\n</table>\n<p>1000 rows × 7 columns</p>\n</div>"
     },
     "execution_count": 21,
     "metadata": {},
     "output_type": "execute_result"
    }
   ],
   "source": [
    "dftest.head(1000)"
   ],
   "metadata": {
    "collapsed": false,
    "pycharm": {
     "name": "#%%\n"
    }
   }
  },
  {
   "cell_type": "code",
   "execution_count": 22,
   "outputs": [],
   "source": [
    "##### Fokus TCP #####\n",
    "#####################\n",
    "dftest = dftest[dftest[\"Protocol\"] == \"TCP\"]\n",
    "# Menghapus kolom \"No.\"\n",
    "dftest = dftest.drop(\"No.\", axis=1)\n",
    "\n",
    "# Menyimpan dataset yang sudah diubah\n",
    "dftest.to_csv(\"test_TCP.csv\", index=False)"
   ],
   "metadata": {
    "collapsed": false,
    "pycharm": {
     "name": "#%%\n"
    }
   }
  },
  {
   "cell_type": "code",
   "execution_count": 23,
   "outputs": [
    {
     "name": "stdout",
     "output_type": "stream",
     "text": [
      "<class 'pandas.core.frame.DataFrame'>\n",
      "Index: 241416 entries, 0 to 250686\n",
      "Data columns (total 6 columns):\n",
      " #   Column       Non-Null Count   Dtype  \n",
      "---  ------       --------------   -----  \n",
      " 0   Time         241416 non-null  float64\n",
      " 1   Source       241416 non-null  object \n",
      " 2   Destination  241416 non-null  object \n",
      " 3   Protocol     241416 non-null  object \n",
      " 4   Length       241416 non-null  int64  \n",
      " 5   Info         241416 non-null  object \n",
      "dtypes: float64(1), int64(1), object(4)\n",
      "memory usage: 12.9+ MB\n"
     ]
    }
   ],
   "source": [
    "dftest.info()"
   ],
   "metadata": {
    "collapsed": false,
    "pycharm": {
     "name": "#%%\n"
    }
   }
  },
  {
   "cell_type": "code",
   "execution_count": 24,
   "outputs": [
    {
     "data": {
      "text/plain": "Time           int64\nSource         int32\nDestination    int32\nProtocol       int32\nLength         int64\nInfo           int32\ndtype: object"
     },
     "execution_count": 24,
     "metadata": {},
     "output_type": "execute_result"
    }
   ],
   "source": [
    "le = LabelEncoder()\n",
    "for column in dftest.columns:\n",
    "    if dftest[column].dtype == 'float64':\n",
    "        dftest[column] = le.fit_transform(dftest[column])\n",
    "    if dftest[column].dtype == 'object':\n",
    "        dftest[column] = le.fit_transform(dftest[column])\n",
    "dftest.dtypes"
   ],
   "metadata": {
    "collapsed": false,
    "pycharm": {
     "name": "#%%\n"
    }
   }
  },
  {
   "cell_type": "code",
   "execution_count": 25,
   "outputs": [
    {
     "data": {
      "text/plain": "      Time  Source  Destination  Protocol  Length    Info\n0        0       6            1         0      96   26025\n1        0       6            1         0      96   67821\n2        0       6            1         0      96   67822\n3        1       6            1         0      96   26090\n4        1       6            1         0      96  193849\n...    ...     ...          ...       ...     ...     ...\n1037   286       6            1         0      96   26188\n1038   286       6            1         0      96   70770\n1039   286       6            1         0      96   70771\n1040   286       6            1         0      96   26190\n1041   286       6            1         0      96   71011\n\n[1000 rows x 6 columns]",
      "text/html": "<div>\n<style scoped>\n    .dataframe tbody tr th:only-of-type {\n        vertical-align: middle;\n    }\n\n    .dataframe tbody tr th {\n        vertical-align: top;\n    }\n\n    .dataframe thead th {\n        text-align: right;\n    }\n</style>\n<table border=\"1\" class=\"dataframe\">\n  <thead>\n    <tr style=\"text-align: right;\">\n      <th></th>\n      <th>Time</th>\n      <th>Source</th>\n      <th>Destination</th>\n      <th>Protocol</th>\n      <th>Length</th>\n      <th>Info</th>\n    </tr>\n  </thead>\n  <tbody>\n    <tr>\n      <th>0</th>\n      <td>0</td>\n      <td>6</td>\n      <td>1</td>\n      <td>0</td>\n      <td>96</td>\n      <td>26025</td>\n    </tr>\n    <tr>\n      <th>1</th>\n      <td>0</td>\n      <td>6</td>\n      <td>1</td>\n      <td>0</td>\n      <td>96</td>\n      <td>67821</td>\n    </tr>\n    <tr>\n      <th>2</th>\n      <td>0</td>\n      <td>6</td>\n      <td>1</td>\n      <td>0</td>\n      <td>96</td>\n      <td>67822</td>\n    </tr>\n    <tr>\n      <th>3</th>\n      <td>1</td>\n      <td>6</td>\n      <td>1</td>\n      <td>0</td>\n      <td>96</td>\n      <td>26090</td>\n    </tr>\n    <tr>\n      <th>4</th>\n      <td>1</td>\n      <td>6</td>\n      <td>1</td>\n      <td>0</td>\n      <td>96</td>\n      <td>193849</td>\n    </tr>\n    <tr>\n      <th>...</th>\n      <td>...</td>\n      <td>...</td>\n      <td>...</td>\n      <td>...</td>\n      <td>...</td>\n      <td>...</td>\n    </tr>\n    <tr>\n      <th>1037</th>\n      <td>286</td>\n      <td>6</td>\n      <td>1</td>\n      <td>0</td>\n      <td>96</td>\n      <td>26188</td>\n    </tr>\n    <tr>\n      <th>1038</th>\n      <td>286</td>\n      <td>6</td>\n      <td>1</td>\n      <td>0</td>\n      <td>96</td>\n      <td>70770</td>\n    </tr>\n    <tr>\n      <th>1039</th>\n      <td>286</td>\n      <td>6</td>\n      <td>1</td>\n      <td>0</td>\n      <td>96</td>\n      <td>70771</td>\n    </tr>\n    <tr>\n      <th>1040</th>\n      <td>286</td>\n      <td>6</td>\n      <td>1</td>\n      <td>0</td>\n      <td>96</td>\n      <td>26190</td>\n    </tr>\n    <tr>\n      <th>1041</th>\n      <td>286</td>\n      <td>6</td>\n      <td>1</td>\n      <td>0</td>\n      <td>96</td>\n      <td>71011</td>\n    </tr>\n  </tbody>\n</table>\n<p>1000 rows × 6 columns</p>\n</div>"
     },
     "execution_count": 25,
     "metadata": {},
     "output_type": "execute_result"
    }
   ],
   "source": [
    "dftest.head(1000)"
   ],
   "metadata": {
    "collapsed": false,
    "pycharm": {
     "name": "#%%\n"
    }
   }
  },
  {
   "cell_type": "code",
   "execution_count": 26,
   "outputs": [],
   "source": [
    "loaded_model = load_model('model.h5')"
   ],
   "metadata": {
    "collapsed": false,
    "pycharm": {
     "name": "#%%\n"
    }
   }
  },
  {
   "cell_type": "code",
   "execution_count": 27,
   "outputs": [
    {
     "name": "stdout",
     "output_type": "stream",
     "text": [
      "7545/7545 [==============================] - 9s 1ms/step\n"
     ]
    },
    {
     "data": {
      "text/plain": "(241416, 1)"
     },
     "execution_count": 27,
     "metadata": {},
     "output_type": "execute_result"
    }
   ],
   "source": [
    "predictions = loaded_model.predict(dftest)\n",
    "predictions.shape"
   ],
   "metadata": {
    "collapsed": false,
    "pycharm": {
     "name": "#%%\n"
    }
   }
  },
  {
   "cell_type": "code",
   "execution_count": 28,
   "outputs": [
    {
     "data": {
      "text/plain": "array([[7.9503559e-09],\n       [6.5425217e-01],\n       [6.5432876e-01],\n       ...,\n       [9.9991030e-01],\n       [3.3937205e-02],\n       [9.9991030e-01]], dtype=float32)"
     },
     "execution_count": 28,
     "metadata": {},
     "output_type": "execute_result"
    }
   ],
   "source": [
    "predictions"
   ],
   "metadata": {
    "collapsed": false,
    "pycharm": {
     "name": "#%%\n"
    }
   }
  },
  {
   "cell_type": "code",
   "execution_count": 33,
   "outputs": [],
   "source": [
    "# Impor pustaka yang diperlukan\n",
    "from keras.models import load_model\n",
    "import numpy as np\n",
    "\n",
    "# Muat model yang telah Anda latih\n",
    "model = load_model('model.h5')  # Ganti 'model.h5' dengan nama model Anda\n",
    "\n",
    "# Muat dataset test (gantilah dengan cara yang sesuai dengan dataset Anda)\n",
    "x_test = pd.read_csv('test_TCP.csv')\n",
    "\n",
    "le = LabelEncoder()\n",
    "for column in x_test.columns:\n",
    "    if x_test[column].dtype == 'float64':\n",
    "        x_test[column] = le.fit_transform(x_test[column])\n",
    "    if x_test[column].dtype == 'object':\n",
    "        x_test[column] = le.fit_transform(x_test[column])\n"
   ],
   "metadata": {
    "collapsed": false,
    "pycharm": {
     "name": "#%%\n"
    }
   }
  },
  {
   "cell_type": "code",
   "execution_count": 37,
   "outputs": [
    {
     "name": "stdout",
     "output_type": "stream",
     "text": [
      "7545/7545 [==============================] - 9s 1ms/step\n"
     ]
    },
    {
     "data": {
      "text/plain": "array([[0],\n       [1],\n       [1],\n       ...,\n       [1],\n       [0],\n       [1]])"
     },
     "execution_count": 37,
     "metadata": {},
     "output_type": "execute_result"
    }
   ],
   "source": [
    "# Lakukan prediksi\n",
    "y_pred = model.predict(x_test)\n",
    "y_pred_binary = (y_pred > 0.5).astype(int)\n",
    "\n",
    "# Tampilkan hasil prediksi\n",
    "y_pred_binary"
   ],
   "metadata": {
    "collapsed": false,
    "pycharm": {
     "name": "#%%\n"
    }
   }
  },
  {
   "cell_type": "markdown",
   "source": [
    "cek dataset"
   ],
   "metadata": {
    "collapsed": false,
    "pycharm": {
     "name": "#%% md\n"
    }
   }
  },
  {
   "cell_type": "code",
   "execution_count": 38,
   "outputs": [],
   "source": [
    "dftest2 = pd.read_csv('test_TCP.csv')"
   ],
   "metadata": {
    "collapsed": false,
    "pycharm": {
     "name": "#%%\n"
    }
   }
  },
  {
   "cell_type": "code",
   "execution_count": 40,
   "outputs": [],
   "source": [
    "def label_serangan(row):\n",
    "    if \"TCP Dup ACK\" in row[\"Info\"]:\n",
    "        return \"Serangan\"\n",
    "    else:\n",
    "        return \"Non-Serangan\"\n",
    "\n",
    "dftest2[\"Label\"] = dftest2.apply(label_serangan, axis=1)"
   ],
   "metadata": {
    "collapsed": false,
    "pycharm": {
     "name": "#%%\n"
    }
   }
  },
  {
   "cell_type": "code",
   "execution_count": 41,
   "outputs": [
    {
     "data": {
      "text/plain": "      Time  Source  Destination  Protocol  Length    Info  Label\n43       0       4            1         0      80     652      0\n44       0       4            1         0      80  195922      1\n45       0       4            1         0      80  195923      1\n48       1       4            1         0      80     653      0\n49       1       4            1         0      88  199525      1\n...    ...     ...          ...       ...     ...     ...    ...\n1074   277       4            1         0      96   74306      1\n1075   278       4            1         0      96   74307      1\n1076   278       4            1         0      96     165      0\n1077   278       4            1         0      96   74601      1\n1078   278       4            1         0      96   74602      1\n\n[1000 rows x 7 columns]",
      "text/html": "<div>\n<style scoped>\n    .dataframe tbody tr th:only-of-type {\n        vertical-align: middle;\n    }\n\n    .dataframe tbody tr th {\n        vertical-align: top;\n    }\n\n    .dataframe thead th {\n        text-align: right;\n    }\n</style>\n<table border=\"1\" class=\"dataframe\">\n  <thead>\n    <tr style=\"text-align: right;\">\n      <th></th>\n      <th>Time</th>\n      <th>Source</th>\n      <th>Destination</th>\n      <th>Protocol</th>\n      <th>Length</th>\n      <th>Info</th>\n      <th>Label</th>\n    </tr>\n  </thead>\n  <tbody>\n    <tr>\n      <th>43</th>\n      <td>0</td>\n      <td>4</td>\n      <td>1</td>\n      <td>0</td>\n      <td>80</td>\n      <td>652</td>\n      <td>0</td>\n    </tr>\n    <tr>\n      <th>44</th>\n      <td>0</td>\n      <td>4</td>\n      <td>1</td>\n      <td>0</td>\n      <td>80</td>\n      <td>195922</td>\n      <td>1</td>\n    </tr>\n    <tr>\n      <th>45</th>\n      <td>0</td>\n      <td>4</td>\n      <td>1</td>\n      <td>0</td>\n      <td>80</td>\n      <td>195923</td>\n      <td>1</td>\n    </tr>\n    <tr>\n      <th>48</th>\n      <td>1</td>\n      <td>4</td>\n      <td>1</td>\n      <td>0</td>\n      <td>80</td>\n      <td>653</td>\n      <td>0</td>\n    </tr>\n    <tr>\n      <th>49</th>\n      <td>1</td>\n      <td>4</td>\n      <td>1</td>\n      <td>0</td>\n      <td>88</td>\n      <td>199525</td>\n      <td>1</td>\n    </tr>\n    <tr>\n      <th>...</th>\n      <td>...</td>\n      <td>...</td>\n      <td>...</td>\n      <td>...</td>\n      <td>...</td>\n      <td>...</td>\n      <td>...</td>\n    </tr>\n    <tr>\n      <th>1074</th>\n      <td>277</td>\n      <td>4</td>\n      <td>1</td>\n      <td>0</td>\n      <td>96</td>\n      <td>74306</td>\n      <td>1</td>\n    </tr>\n    <tr>\n      <th>1075</th>\n      <td>278</td>\n      <td>4</td>\n      <td>1</td>\n      <td>0</td>\n      <td>96</td>\n      <td>74307</td>\n      <td>1</td>\n    </tr>\n    <tr>\n      <th>1076</th>\n      <td>278</td>\n      <td>4</td>\n      <td>1</td>\n      <td>0</td>\n      <td>96</td>\n      <td>165</td>\n      <td>0</td>\n    </tr>\n    <tr>\n      <th>1077</th>\n      <td>278</td>\n      <td>4</td>\n      <td>1</td>\n      <td>0</td>\n      <td>96</td>\n      <td>74601</td>\n      <td>1</td>\n    </tr>\n    <tr>\n      <th>1078</th>\n      <td>278</td>\n      <td>4</td>\n      <td>1</td>\n      <td>0</td>\n      <td>96</td>\n      <td>74602</td>\n      <td>1</td>\n    </tr>\n  </tbody>\n</table>\n<p>1000 rows × 7 columns</p>\n</div>"
     },
     "execution_count": 41,
     "metadata": {},
     "output_type": "execute_result"
    }
   ],
   "source": [
    "df.head(1000)"
   ],
   "metadata": {
    "collapsed": false,
    "pycharm": {
     "name": "#%%\n"
    }
   }
  }
 ],
 "metadata": {
  "kernelspec": {
   "display_name": "Python 3",
   "language": "python",
   "name": "python3"
  },
  "language_info": {
   "codemirror_mode": {
    "name": "ipython",
    "version": 2
   },
   "file_extension": ".py",
   "mimetype": "text/x-python",
   "name": "python",
   "nbconvert_exporter": "python",
   "pygments_lexer": "ipython2",
   "version": "2.7.6"
  }
 },
 "nbformat": 4,
 "nbformat_minor": 0
}