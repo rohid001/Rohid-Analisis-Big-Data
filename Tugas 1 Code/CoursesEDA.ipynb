{
 "cells": [
  {
   "cell_type": "code",
   "execution_count": 8,
   "metadata": {
    "collapsed": true,
    "pycharm": {
     "name": "#%%\n"
    }
   },
   "outputs": [],
   "source": [
    "import numpy as np\n",
    "import pandas as pd\n",
    "import matplotlib.pyplot as plt"
   ]
  },
  {
   "cell_type": "code",
   "execution_count": 9,
   "outputs": [],
   "source": [
    "df_course = pd.read_csv('Datasets/courses.csv')"
   ],
   "metadata": {
    "collapsed": false,
    "pycharm": {
     "name": "#%%\n"
    }
   }
  },
  {
   "cell_type": "code",
   "execution_count": 10,
   "outputs": [
    {
     "data": {
      "text/plain": "  code_module code_presentation  module_presentation_length\n0         AAA             2013J                         268\n1         AAA             2014J                         269\n2         BBB             2013J                         268\n3         BBB             2014J                         262\n4         BBB             2013B                         240",
      "text/html": "<div>\n<style scoped>\n    .dataframe tbody tr th:only-of-type {\n        vertical-align: middle;\n    }\n\n    .dataframe tbody tr th {\n        vertical-align: top;\n    }\n\n    .dataframe thead th {\n        text-align: right;\n    }\n</style>\n<table border=\"1\" class=\"dataframe\">\n  <thead>\n    <tr style=\"text-align: right;\">\n      <th></th>\n      <th>code_module</th>\n      <th>code_presentation</th>\n      <th>module_presentation_length</th>\n    </tr>\n  </thead>\n  <tbody>\n    <tr>\n      <th>0</th>\n      <td>AAA</td>\n      <td>2013J</td>\n      <td>268</td>\n    </tr>\n    <tr>\n      <th>1</th>\n      <td>AAA</td>\n      <td>2014J</td>\n      <td>269</td>\n    </tr>\n    <tr>\n      <th>2</th>\n      <td>BBB</td>\n      <td>2013J</td>\n      <td>268</td>\n    </tr>\n    <tr>\n      <th>3</th>\n      <td>BBB</td>\n      <td>2014J</td>\n      <td>262</td>\n    </tr>\n    <tr>\n      <th>4</th>\n      <td>BBB</td>\n      <td>2013B</td>\n      <td>240</td>\n    </tr>\n  </tbody>\n</table>\n</div>"
     },
     "execution_count": 10,
     "metadata": {},
     "output_type": "execute_result"
    }
   ],
   "source": [
    "# Menampilkan 5 baris teratas pada Courses\n",
    "df_course.head()"
   ],
   "metadata": {
    "collapsed": false,
    "pycharm": {
     "name": "#%%\n"
    }
   }
  },
  {
   "cell_type": "code",
   "execution_count": 11,
   "outputs": [
    {
     "data": {
      "text/plain": "   code_module code_presentation  module_presentation_length\n17         FFF             2013B                         240\n18         FFF             2014B                         241\n19         GGG             2013J                         261\n20         GGG             2014J                         269\n21         GGG             2014B                         241",
      "text/html": "<div>\n<style scoped>\n    .dataframe tbody tr th:only-of-type {\n        vertical-align: middle;\n    }\n\n    .dataframe tbody tr th {\n        vertical-align: top;\n    }\n\n    .dataframe thead th {\n        text-align: right;\n    }\n</style>\n<table border=\"1\" class=\"dataframe\">\n  <thead>\n    <tr style=\"text-align: right;\">\n      <th></th>\n      <th>code_module</th>\n      <th>code_presentation</th>\n      <th>module_presentation_length</th>\n    </tr>\n  </thead>\n  <tbody>\n    <tr>\n      <th>17</th>\n      <td>FFF</td>\n      <td>2013B</td>\n      <td>240</td>\n    </tr>\n    <tr>\n      <th>18</th>\n      <td>FFF</td>\n      <td>2014B</td>\n      <td>241</td>\n    </tr>\n    <tr>\n      <th>19</th>\n      <td>GGG</td>\n      <td>2013J</td>\n      <td>261</td>\n    </tr>\n    <tr>\n      <th>20</th>\n      <td>GGG</td>\n      <td>2014J</td>\n      <td>269</td>\n    </tr>\n    <tr>\n      <th>21</th>\n      <td>GGG</td>\n      <td>2014B</td>\n      <td>241</td>\n    </tr>\n  </tbody>\n</table>\n</div>"
     },
     "execution_count": 11,
     "metadata": {},
     "output_type": "execute_result"
    }
   ],
   "source": [
    "# Menampilkan 5 baris terakhir pada Course\n",
    "df_course.tail()"
   ],
   "metadata": {
    "collapsed": false,
    "pycharm": {
     "name": "#%%\n"
    }
   }
  },
  {
   "cell_type": "code",
   "execution_count": 12,
   "outputs": [
    {
     "name": "stdout",
     "output_type": "stream",
     "text": [
      "Count missing value: \n",
      "\n"
     ]
    },
    {
     "data": {
      "text/plain": "code_module                   0\ncode_presentation             0\nmodule_presentation_length    0\ndtype: int64"
     },
     "execution_count": 12,
     "metadata": {},
     "output_type": "execute_result"
    }
   ],
   "source": [
    "print(\"Count missing value: \\n\")\n",
    "df_course.isnull().sum()"
   ],
   "metadata": {
    "collapsed": false,
    "pycharm": {
     "name": "#%%\n"
    }
   }
  },
  {
   "cell_type": "code",
   "execution_count": 13,
   "outputs": [
    {
     "data": {
      "text/plain": "       module_presentation_length\ncount                   22.000000\nmean                   255.545455\nstd                     13.654677\nmin                    234.000000\n25%                    241.000000\n50%                    261.500000\n75%                    268.000000\nmax                    269.000000",
      "text/html": "<div>\n<style scoped>\n    .dataframe tbody tr th:only-of-type {\n        vertical-align: middle;\n    }\n\n    .dataframe tbody tr th {\n        vertical-align: top;\n    }\n\n    .dataframe thead th {\n        text-align: right;\n    }\n</style>\n<table border=\"1\" class=\"dataframe\">\n  <thead>\n    <tr style=\"text-align: right;\">\n      <th></th>\n      <th>module_presentation_length</th>\n    </tr>\n  </thead>\n  <tbody>\n    <tr>\n      <th>count</th>\n      <td>22.000000</td>\n    </tr>\n    <tr>\n      <th>mean</th>\n      <td>255.545455</td>\n    </tr>\n    <tr>\n      <th>std</th>\n      <td>13.654677</td>\n    </tr>\n    <tr>\n      <th>min</th>\n      <td>234.000000</td>\n    </tr>\n    <tr>\n      <th>25%</th>\n      <td>241.000000</td>\n    </tr>\n    <tr>\n      <th>50%</th>\n      <td>261.500000</td>\n    </tr>\n    <tr>\n      <th>75%</th>\n      <td>268.000000</td>\n    </tr>\n    <tr>\n      <th>max</th>\n      <td>269.000000</td>\n    </tr>\n  </tbody>\n</table>\n</div>"
     },
     "execution_count": 13,
     "metadata": {},
     "output_type": "execute_result"
    }
   ],
   "source": [
    "#Mendeskripsikan secara statistik pada feature numerik\n",
    "df_course.describe()"
   ],
   "metadata": {
    "collapsed": false,
    "pycharm": {
     "name": "#%%\n"
    }
   }
  },
  {
   "cell_type": "code",
   "execution_count": 14,
   "outputs": [
    {
     "name": "stdout",
     "output_type": "stream",
     "text": [
      "<class 'pandas.core.frame.DataFrame'>\n",
      "RangeIndex: 22 entries, 0 to 21\n",
      "Data columns (total 3 columns):\n",
      " #   Column                      Non-Null Count  Dtype \n",
      "---  ------                      --------------  ----- \n",
      " 0   code_module                 22 non-null     object\n",
      " 1   code_presentation           22 non-null     object\n",
      " 2   module_presentation_length  22 non-null     int64 \n",
      "dtypes: int64(1), object(2)\n",
      "memory usage: 656.0+ bytes\n"
     ]
    }
   ],
   "source": [
    "# Menampilkan struktur dan tipe data pada datasets\n",
    "df_course.info()"
   ],
   "metadata": {
    "collapsed": false,
    "pycharm": {
     "name": "#%%\n"
    }
   }
  },
  {
   "cell_type": "code",
   "execution_count": null,
   "outputs": [],
   "source": [],
   "metadata": {
    "collapsed": false,
    "pycharm": {
     "name": "#%%\n"
    }
   }
  }
 ],
 "metadata": {
  "kernelspec": {
   "display_name": "Python 3",
   "language": "python",
   "name": "python3"
  },
  "language_info": {
   "codemirror_mode": {
    "name": "ipython",
    "version": 2
   },
   "file_extension": ".py",
   "mimetype": "text/x-python",
   "name": "python",
   "nbconvert_exporter": "python",
   "pygments_lexer": "ipython2",
   "version": "2.7.6"
  }
 },
 "nbformat": 4,
 "nbformat_minor": 0
}