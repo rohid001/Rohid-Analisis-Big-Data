{
 "cells": [
  {
   "cell_type": "code",
   "execution_count": 1,
   "metadata": {
    "collapsed": true,
    "pycharm": {
     "name": "#%%\n"
    }
   },
   "outputs": [],
   "source": [
    "import numpy as np\n",
    "import pandas as pd\n",
    "import matplotlib.pyplot as plt\n",
    "import seaborn as sns"
   ]
  },
  {
   "cell_type": "code",
   "execution_count": 2,
   "outputs": [],
   "source": [
    "# Import Datasets\n",
    "df_studentAssessment = pd.read_csv(\"Datasets/studentAssessment.csv\")"
   ],
   "metadata": {
    "collapsed": false,
    "pycharm": {
     "name": "#%%\n"
    }
   }
  },
  {
   "cell_type": "code",
   "execution_count": 3,
   "outputs": [
    {
     "data": {
      "text/plain": "   id_assessment  id_student  date_submitted  is_banked  score\n0           1752       11391              18          0   78.0\n1           1752       28400              22          0   70.0\n2           1752       31604              17          0   72.0\n3           1752       32885              26          0   69.0\n4           1752       38053              19          0   79.0",
      "text/html": "<div>\n<style scoped>\n    .dataframe tbody tr th:only-of-type {\n        vertical-align: middle;\n    }\n\n    .dataframe tbody tr th {\n        vertical-align: top;\n    }\n\n    .dataframe thead th {\n        text-align: right;\n    }\n</style>\n<table border=\"1\" class=\"dataframe\">\n  <thead>\n    <tr style=\"text-align: right;\">\n      <th></th>\n      <th>id_assessment</th>\n      <th>id_student</th>\n      <th>date_submitted</th>\n      <th>is_banked</th>\n      <th>score</th>\n    </tr>\n  </thead>\n  <tbody>\n    <tr>\n      <th>0</th>\n      <td>1752</td>\n      <td>11391</td>\n      <td>18</td>\n      <td>0</td>\n      <td>78.0</td>\n    </tr>\n    <tr>\n      <th>1</th>\n      <td>1752</td>\n      <td>28400</td>\n      <td>22</td>\n      <td>0</td>\n      <td>70.0</td>\n    </tr>\n    <tr>\n      <th>2</th>\n      <td>1752</td>\n      <td>31604</td>\n      <td>17</td>\n      <td>0</td>\n      <td>72.0</td>\n    </tr>\n    <tr>\n      <th>3</th>\n      <td>1752</td>\n      <td>32885</td>\n      <td>26</td>\n      <td>0</td>\n      <td>69.0</td>\n    </tr>\n    <tr>\n      <th>4</th>\n      <td>1752</td>\n      <td>38053</td>\n      <td>19</td>\n      <td>0</td>\n      <td>79.0</td>\n    </tr>\n  </tbody>\n</table>\n</div>"
     },
     "execution_count": 3,
     "metadata": {},
     "output_type": "execute_result"
    }
   ],
   "source": [
    "# Menampilkan 5 baris pertama pada student assessment\n",
    "df_studentAssessment.head()"
   ],
   "metadata": {
    "collapsed": false,
    "pycharm": {
     "name": "#%%\n"
    }
   }
  },
  {
   "cell_type": "code",
   "execution_count": 4,
   "outputs": [
    {
     "data": {
      "text/plain": "        id_assessment  id_student  date_submitted  is_banked  score\n173907          37443      527538             227          0   60.0\n173908          37443      534672             229          0  100.0\n173909          37443      546286             215          0   80.0\n173910          37443      546724             230          0  100.0\n173911          37443      558486             224          0   80.0",
      "text/html": "<div>\n<style scoped>\n    .dataframe tbody tr th:only-of-type {\n        vertical-align: middle;\n    }\n\n    .dataframe tbody tr th {\n        vertical-align: top;\n    }\n\n    .dataframe thead th {\n        text-align: right;\n    }\n</style>\n<table border=\"1\" class=\"dataframe\">\n  <thead>\n    <tr style=\"text-align: right;\">\n      <th></th>\n      <th>id_assessment</th>\n      <th>id_student</th>\n      <th>date_submitted</th>\n      <th>is_banked</th>\n      <th>score</th>\n    </tr>\n  </thead>\n  <tbody>\n    <tr>\n      <th>173907</th>\n      <td>37443</td>\n      <td>527538</td>\n      <td>227</td>\n      <td>0</td>\n      <td>60.0</td>\n    </tr>\n    <tr>\n      <th>173908</th>\n      <td>37443</td>\n      <td>534672</td>\n      <td>229</td>\n      <td>0</td>\n      <td>100.0</td>\n    </tr>\n    <tr>\n      <th>173909</th>\n      <td>37443</td>\n      <td>546286</td>\n      <td>215</td>\n      <td>0</td>\n      <td>80.0</td>\n    </tr>\n    <tr>\n      <th>173910</th>\n      <td>37443</td>\n      <td>546724</td>\n      <td>230</td>\n      <td>0</td>\n      <td>100.0</td>\n    </tr>\n    <tr>\n      <th>173911</th>\n      <td>37443</td>\n      <td>558486</td>\n      <td>224</td>\n      <td>0</td>\n      <td>80.0</td>\n    </tr>\n  </tbody>\n</table>\n</div>"
     },
     "execution_count": 4,
     "metadata": {},
     "output_type": "execute_result"
    }
   ],
   "source": [
    "# Menampilkan 5 baris terakhir pada student assessment\n",
    "df_studentAssessment.tail()"
   ],
   "metadata": {
    "collapsed": false,
    "pycharm": {
     "name": "#%%\n"
    }
   }
  },
  {
   "cell_type": "code",
   "execution_count": 5,
   "outputs": [
    {
     "data": {
      "text/plain": "       id_assessment    id_student  date_submitted      is_banked   \ncount  173912.000000  1.739120e+05   173912.000000  173912.000000  \\\nmean    26553.803556  7.051507e+05      116.032942       0.010977   \nstd      8829.784254  5.523952e+05       71.484148       0.104194   \nmin      1752.000000  6.516000e+03      -11.000000       0.000000   \n25%     15022.000000  5.044290e+05       51.000000       0.000000   \n50%     25359.000000  5.852080e+05      116.000000       0.000000   \n75%     34883.000000  6.344980e+05      173.000000       0.000000   \nmax     37443.000000  2.698588e+06      608.000000       1.000000   \n\n               score  \ncount  173739.000000  \nmean       75.799573  \nstd        18.798107  \nmin         0.000000  \n25%        65.000000  \n50%        80.000000  \n75%        90.000000  \nmax       100.000000  ",
      "text/html": "<div>\n<style scoped>\n    .dataframe tbody tr th:only-of-type {\n        vertical-align: middle;\n    }\n\n    .dataframe tbody tr th {\n        vertical-align: top;\n    }\n\n    .dataframe thead th {\n        text-align: right;\n    }\n</style>\n<table border=\"1\" class=\"dataframe\">\n  <thead>\n    <tr style=\"text-align: right;\">\n      <th></th>\n      <th>id_assessment</th>\n      <th>id_student</th>\n      <th>date_submitted</th>\n      <th>is_banked</th>\n      <th>score</th>\n    </tr>\n  </thead>\n  <tbody>\n    <tr>\n      <th>count</th>\n      <td>173912.000000</td>\n      <td>1.739120e+05</td>\n      <td>173912.000000</td>\n      <td>173912.000000</td>\n      <td>173739.000000</td>\n    </tr>\n    <tr>\n      <th>mean</th>\n      <td>26553.803556</td>\n      <td>7.051507e+05</td>\n      <td>116.032942</td>\n      <td>0.010977</td>\n      <td>75.799573</td>\n    </tr>\n    <tr>\n      <th>std</th>\n      <td>8829.784254</td>\n      <td>5.523952e+05</td>\n      <td>71.484148</td>\n      <td>0.104194</td>\n      <td>18.798107</td>\n    </tr>\n    <tr>\n      <th>min</th>\n      <td>1752.000000</td>\n      <td>6.516000e+03</td>\n      <td>-11.000000</td>\n      <td>0.000000</td>\n      <td>0.000000</td>\n    </tr>\n    <tr>\n      <th>25%</th>\n      <td>15022.000000</td>\n      <td>5.044290e+05</td>\n      <td>51.000000</td>\n      <td>0.000000</td>\n      <td>65.000000</td>\n    </tr>\n    <tr>\n      <th>50%</th>\n      <td>25359.000000</td>\n      <td>5.852080e+05</td>\n      <td>116.000000</td>\n      <td>0.000000</td>\n      <td>80.000000</td>\n    </tr>\n    <tr>\n      <th>75%</th>\n      <td>34883.000000</td>\n      <td>6.344980e+05</td>\n      <td>173.000000</td>\n      <td>0.000000</td>\n      <td>90.000000</td>\n    </tr>\n    <tr>\n      <th>max</th>\n      <td>37443.000000</td>\n      <td>2.698588e+06</td>\n      <td>608.000000</td>\n      <td>1.000000</td>\n      <td>100.000000</td>\n    </tr>\n  </tbody>\n</table>\n</div>"
     },
     "execution_count": 5,
     "metadata": {},
     "output_type": "execute_result"
    }
   ],
   "source": [
    "#Mendeskripsikan secara statistik pada feature numerik\n",
    "df_studentAssessment.describe()"
   ],
   "metadata": {
    "collapsed": false,
    "pycharm": {
     "name": "#%%\n"
    }
   }
  },
  {
   "cell_type": "code",
   "execution_count": 6,
   "outputs": [
    {
     "name": "stdout",
     "output_type": "stream",
     "text": [
      "<class 'pandas.core.frame.DataFrame'>\n",
      "RangeIndex: 173912 entries, 0 to 173911\n",
      "Data columns (total 5 columns):\n",
      " #   Column          Non-Null Count   Dtype  \n",
      "---  ------          --------------   -----  \n",
      " 0   id_assessment   173912 non-null  int64  \n",
      " 1   id_student      173912 non-null  int64  \n",
      " 2   date_submitted  173912 non-null  int64  \n",
      " 3   is_banked       173912 non-null  int64  \n",
      " 4   score           173739 non-null  float64\n",
      "dtypes: float64(1), int64(4)\n",
      "memory usage: 6.6 MB\n"
     ]
    }
   ],
   "source": [
    "# Menampilkan struktur dan tipe data pada datasets\n",
    "df_studentAssessment.info()"
   ],
   "metadata": {
    "collapsed": false,
    "pycharm": {
     "name": "#%%\n"
    }
   }
  },
  {
   "cell_type": "code",
   "execution_count": 7,
   "outputs": [
    {
     "name": "stdout",
     "output_type": "stream",
     "text": [
      "Count missing value: \n",
      "\n"
     ]
    },
    {
     "data": {
      "text/plain": "id_assessment       0\nid_student          0\ndate_submitted      0\nis_banked           0\nscore             173\ndtype: int64"
     },
     "execution_count": 7,
     "metadata": {},
     "output_type": "execute_result"
    }
   ],
   "source": [
    "# Menghitung jumlah empty atau null yang terdapat pada record datasets\n",
    "print(\"Count missing value: \\n\")\n",
    "df_studentAssessment.isnull().sum()"
   ],
   "metadata": {
    "collapsed": false,
    "pycharm": {
     "name": "#%%\n"
    }
   }
  },
  {
   "cell_type": "code",
   "execution_count": 11,
   "outputs": [
    {
     "data": {
      "text/plain": "<Figure size 800x600 with 1 Axes>",
      "image/png": "[encoded data removed]"
     },
     "metadata": {},
     "output_type": "display_data"
    }
   ],
   "source": [
    "#Melakukan Plotting menggunakan diagram batang pada Feature Score\n",
    "plt.figure(figsize=(8, 6))\n",
    "plt.hist(df_studentAssessment['score'], bins=10, edgecolor='black')\n",
    "plt.xlabel('Score')\n",
    "plt.ylabel('Frequency')\n",
    "plt.title('Distribusi dari Score')\n",
    "plt.show()"
   ],
   "metadata": {
    "collapsed": false,
    "pycharm": {
     "name": "#%%\n"
    }
   }
  },
  {
   "cell_type": "code",
   "execution_count": null,
   "outputs": [],
   "source": [],
   "metadata": {
    "collapsed": false,
    "pycharm": {
     "name": "#%%\n"
    }
   }
  }
 ],
 "metadata": {
  "kernelspec": {
   "display_name": "Python 3",
   "language": "python",
   "name": "python3"
  },
  "language_info": {
   "codemirror_mode": {
    "name": "ipython",
    "version": 2
   },
   "file_extension": ".py",
   "mimetype": "text/x-python",
   "name": "python",
   "nbconvert_exporter": "python",
   "pygments_lexer": "ipython2",
   "version": "2.7.6"
  }
 },
 "nbformat": 4,
 "nbformat_minor": 0
}