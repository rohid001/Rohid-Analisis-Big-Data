{
 "cells": [
  {
   "cell_type": "code",
   "execution_count": 97,
   "metadata": {
    "collapsed": true,
    "pycharm": {
     "name": "#%%\n"
    }
   },
   "outputs": [],
   "source": [
    "import numpy as np\n",
    "import pandas as pd\n",
    "import matplotlib.pyplot as plt"
   ]
  },
  {
   "cell_type": "code",
   "execution_count": 98,
   "outputs": [],
   "source": [
    "# Load Datasets\n",
    "assessment = pd.read_csv('Datasets/assessments.csv')\n",
    "courses = pd.read_csv('Datasets/courses.csv')\n",
    "student_assess = pd.read_csv('Datasets/studentAssessment.csv')\n",
    "student_info = pd.read_csv('Datasets/studentInfo.csv')\n",
    "student_regis = pd.read_csv('Datasets/studentRegistration.csv')\n",
    "student_vle = pd.read_csv('Datasets/studentVle.csv')\n",
    "vle = pd.read_csv('Datasets/vle.csv')"
   ],
   "metadata": {
    "collapsed": false,
    "pycharm": {
     "name": "#%%\n"
    }
   }
  },
  {
   "cell_type": "code",
   "execution_count": 99,
   "outputs": [],
   "source": [
    "# Create a new feature \"Module\" to combine the feature 'code_module' with 'code_presentation'.\n",
    "assessment['module_presentation'] = list(map(lambda a,b: str(a) + '_' + str(b), assessment.code_module, assessment.code_presentation))\n",
    "courses['module_presentation'] = list(map(lambda a,b: str(a) + '_' + str(b), courses.code_module, courses.code_presentation))\n",
    "student_info['module_presentation'] = list(map(lambda a,b: str(a) + '_' + str(b), student_info.code_module, student_info.code_presentation))\n",
    "student_regis['module_presentation'] = list(map(lambda a,b: str(a) + '_' + str(b), student_regis.code_module, student_regis.code_presentation))\n",
    "vle['module_presentation'] = list(map(lambda a,b: str(a)+ '_' + str(b), vle.code_module, vle.code_presentation))\n"
   ],
   "metadata": {
    "collapsed": false,
    "pycharm": {
     "name": "#%%\n"
    }
   }
  },
  {
   "cell_type": "code",
   "execution_count": 100,
   "outputs": [],
   "source": [
    "#Menangani missing values dengan menginput berupa '0'\n",
    "#courses.fillna(0, inplace=True)\n",
    "#ssessment.fillna(0, inplace=True)\n",
    "#vle.fillna(0, inplace=True)\n",
    "#student_info.fillna(0, inplace=True)\n",
    "#student_regis.fillna(0, inplace=True)\n",
    "#student_assess.fillna(0, inplace=True)\n",
    "#student_vle.fillna(0, inplace=True)"
   ],
   "metadata": {
    "collapsed": false,
    "pycharm": {
     "name": "#%%\n"
    }
   }
  },
  {
   "cell_type": "markdown",
   "source": [
    "Preprocessing dan Integrasi/Merge"
   ],
   "metadata": {
    "collapsed": false,
    "pycharm": {
     "name": "#%% md\n"
    }
   }
  },
  {
   "cell_type": "code",
   "execution_count": 101,
   "outputs": [],
   "source": [
    "# The features \"week_from\" and \"week_to\" are dropped because the instances in these features are almost all null.\n",
    "vle.drop(columns=['week_from', 'week_to'], inplace=True)"
   ],
   "metadata": {
    "collapsed": false,
    "pycharm": {
     "name": "#%%\n"
    }
   }
  },
  {
   "cell_type": "code",
   "execution_count": 102,
   "outputs": [
    {
     "data": {
      "text/plain": "     code_module code_presentation  id_student gender                region   \n719          BBB             2013J      362907      F     South West Region  \\\n724          BBB             2013J      365288      F          South Region   \n869          BBB             2013J      554243      F     South West Region   \n4961         DDD             2013J      315082      M  West Midlands Region   \n5010         DDD             2013J      403052      F      Yorkshire Region   \n5293         DDD             2013J      582954      M         London Region   \n7853         FFF             2013J      234004      M      Yorkshire Region   \n8001         FFF             2013J      523777      M          North Region   \n8340         FFF             2013J      601640      M         London Region   \n\n          highest_education imd_band age_band  num_of_prev_attempts   \n719      Lower Than A Level   20-30%    35-55                     2  \\\n724   A Level or Equivalent   70-80%     0-35                     0   \n869      Lower Than A Level   60-70%     0-35                     0   \n4961  A Level or Equivalent   50-60%     0-35                     0   \n5010       HE Qualification   20-30%     0-35                     0   \n5293     Lower Than A Level    10-20     0-35                     0   \n7853  A Level or Equivalent   50-60%     0-35                     0   \n8001  A Level or Equivalent    0-10%    35-55                     1   \n8340       HE Qualification   20-30%     0-35                     0   \n\n      studied_credits disability final_result module_presentation   \n719                60          N         Fail           BBB_2013J  \\\n724                60          N         Fail           BBB_2013J   \n869                60          N         Fail           BBB_2013J   \n4961               60          N         Fail           DDD_2013J   \n5010              150          N         Fail           DDD_2013J   \n5293              120          N         Fail           DDD_2013J   \n7853               60          N         Fail           FFF_2013J   \n8001               60          N         Fail           FFF_2013J   \n8340               90          N         Fail           FFF_2013J   \n\n      date_unregistration  \n719                   0.0  \n724                   0.0  \n869                 166.0  \n4961                  0.0  \n5010                  0.0  \n5293                 -7.0  \n7853                  0.0  \n8001                  0.0  \n8340                 -4.0  ",
      "text/html": "<div>\n<style scoped>\n    .dataframe tbody tr th:only-of-type {\n        vertical-align: middle;\n    }\n\n    .dataframe tbody tr th {\n        vertical-align: top;\n    }\n\n    .dataframe thead th {\n        text-align: right;\n    }\n</style>\n<table border=\"1\" class=\"dataframe\">\n  <thead>\n    <tr style=\"text-align: right;\">\n      <th></th>\n      <th>code_module</th>\n      <th>code_presentation</th>\n      <th>id_student</th>\n      <th>gender</th>\n      <th>region</th>\n      <th>highest_education</th>\n      <th>imd_band</th>\n      <th>age_band</th>\n      <th>num_of_prev_attempts</th>\n      <th>studied_credits</th>\n      <th>disability</th>\n      <th>final_result</th>\n      <th>module_presentation</th>\n      <th>date_unregistration</th>\n    </tr>\n  </thead>\n  <tbody>\n    <tr>\n      <th>719</th>\n      <td>BBB</td>\n      <td>2013J</td>\n      <td>362907</td>\n      <td>F</td>\n      <td>South West Region</td>\n      <td>Lower Than A Level</td>\n      <td>20-30%</td>\n      <td>35-55</td>\n      <td>2</td>\n      <td>60</td>\n      <td>N</td>\n      <td>Fail</td>\n      <td>BBB_2013J</td>\n      <td>0.0</td>\n    </tr>\n    <tr>\n      <th>724</th>\n      <td>BBB</td>\n      <td>2013J</td>\n      <td>365288</td>\n      <td>F</td>\n      <td>South Region</td>\n      <td>A Level or Equivalent</td>\n      <td>70-80%</td>\n      <td>0-35</td>\n      <td>0</td>\n      <td>60</td>\n      <td>N</td>\n      <td>Fail</td>\n      <td>BBB_2013J</td>\n      <td>0.0</td>\n    </tr>\n    <tr>\n      <th>869</th>\n      <td>BBB</td>\n      <td>2013J</td>\n      <td>554243</td>\n      <td>F</td>\n      <td>South West Region</td>\n      <td>Lower Than A Level</td>\n      <td>60-70%</td>\n      <td>0-35</td>\n      <td>0</td>\n      <td>60</td>\n      <td>N</td>\n      <td>Fail</td>\n      <td>BBB_2013J</td>\n      <td>166.0</td>\n    </tr>\n    <tr>\n      <th>4961</th>\n      <td>DDD</td>\n      <td>2013J</td>\n      <td>315082</td>\n      <td>M</td>\n      <td>West Midlands Region</td>\n      <td>A Level or Equivalent</td>\n      <td>50-60%</td>\n      <td>0-35</td>\n      <td>0</td>\n      <td>60</td>\n      <td>N</td>\n      <td>Fail</td>\n      <td>DDD_2013J</td>\n      <td>0.0</td>\n    </tr>\n    <tr>\n      <th>5010</th>\n      <td>DDD</td>\n      <td>2013J</td>\n      <td>403052</td>\n      <td>F</td>\n      <td>Yorkshire Region</td>\n      <td>HE Qualification</td>\n      <td>20-30%</td>\n      <td>0-35</td>\n      <td>0</td>\n      <td>150</td>\n      <td>N</td>\n      <td>Fail</td>\n      <td>DDD_2013J</td>\n      <td>0.0</td>\n    </tr>\n    <tr>\n      <th>5293</th>\n      <td>DDD</td>\n      <td>2013J</td>\n      <td>582954</td>\n      <td>M</td>\n      <td>London Region</td>\n      <td>Lower Than A Level</td>\n      <td>10-20</td>\n      <td>0-35</td>\n      <td>0</td>\n      <td>120</td>\n      <td>N</td>\n      <td>Fail</td>\n      <td>DDD_2013J</td>\n      <td>-7.0</td>\n    </tr>\n    <tr>\n      <th>7853</th>\n      <td>FFF</td>\n      <td>2013J</td>\n      <td>234004</td>\n      <td>M</td>\n      <td>Yorkshire Region</td>\n      <td>A Level or Equivalent</td>\n      <td>50-60%</td>\n      <td>0-35</td>\n      <td>0</td>\n      <td>60</td>\n      <td>N</td>\n      <td>Fail</td>\n      <td>FFF_2013J</td>\n      <td>0.0</td>\n    </tr>\n    <tr>\n      <th>8001</th>\n      <td>FFF</td>\n      <td>2013J</td>\n      <td>523777</td>\n      <td>M</td>\n      <td>North Region</td>\n      <td>A Level or Equivalent</td>\n      <td>0-10%</td>\n      <td>35-55</td>\n      <td>1</td>\n      <td>60</td>\n      <td>N</td>\n      <td>Fail</td>\n      <td>FFF_2013J</td>\n      <td>0.0</td>\n    </tr>\n    <tr>\n      <th>8340</th>\n      <td>FFF</td>\n      <td>2013J</td>\n      <td>601640</td>\n      <td>M</td>\n      <td>London Region</td>\n      <td>HE Qualification</td>\n      <td>20-30%</td>\n      <td>0-35</td>\n      <td>0</td>\n      <td>90</td>\n      <td>N</td>\n      <td>Fail</td>\n      <td>FFF_2013J</td>\n      <td>-4.0</td>\n    </tr>\n  </tbody>\n</table>\n</div>"
     },
     "execution_count": 102,
     "metadata": {},
     "output_type": "execute_result"
    }
   ],
   "source": [
    "# Data consistency check with the final_result feature on the studentInfo entity\n",
    "\n",
    "var_temp = student_regis.loc[student_regis.date_unregistration.notna(),['id_student', 'module_presentation', 'date_unregistration']]\n",
    "\n",
    "var_temp = pd.merge(student_info, var_temp, on=['id_student', 'module_presentation'])\n",
    "\n",
    "# Displays unregistered students without \"Withdrawn\" in the final_result feature.\n",
    "err_final_result = var_temp.loc[var_temp.final_result != 'Withdrawn']\n",
    "incorrect_final_results = err_final_result.index\n",
    "err_final_result"
   ],
   "metadata": {
    "collapsed": false,
    "pycharm": {
     "name": "#%%\n"
    }
   }
  },
  {
   "cell_type": "code",
   "execution_count": 103,
   "outputs": [],
   "source": [
    "# Do the 'Withdrawn' input process on students that do not have the 'Withdrawn' label\n",
    "for row in err_final_result[['id_student','code_module','code_presentation']].values:\n",
    "    student_info.loc[(student_info.id_student==row[0])&(student_info.code_module==row[1])&(student_info.code_presentation==row[2]), 'final_result'] = 'Withdrawn'"
   ],
   "metadata": {
    "collapsed": false,
    "pycharm": {
     "name": "#%%\n"
    }
   }
  },
  {
   "cell_type": "code",
   "execution_count": 104,
   "outputs": [
    {
     "data": {
      "text/plain": "   code_module code_presentation  total_weight\n0          AAA             2013J         200.0\n1          AAA             2014J         200.0\n2          BBB             2013B         200.0\n3          BBB             2013J         200.0\n4          BBB             2014B         200.0\n5          BBB             2014J         200.0\n6          CCC             2014B         300.0\n7          CCC             2014J         300.0\n8          DDD             2013B         200.0\n9          DDD             2013J         200.0\n10         DDD             2014B         200.0\n11         DDD             2014J         200.0\n12         EEE             2013J         200.0\n13         EEE             2014B         200.0\n14         EEE             2014J         200.0\n15         FFF             2013B         200.0\n16         FFF             2013J         200.0\n17         FFF             2014B         200.0\n18         FFF             2014J         200.0\n19         GGG             2013J         100.0\n20         GGG             2014B         100.0\n21         GGG             2014J         100.0",
      "text/html": "<div>\n<style scoped>\n    .dataframe tbody tr th:only-of-type {\n        vertical-align: middle;\n    }\n\n    .dataframe tbody tr th {\n        vertical-align: top;\n    }\n\n    .dataframe thead th {\n        text-align: right;\n    }\n</style>\n<table border=\"1\" class=\"dataframe\">\n  <thead>\n    <tr style=\"text-align: right;\">\n      <th></th>\n      <th>code_module</th>\n      <th>code_presentation</th>\n      <th>total_weight</th>\n    </tr>\n  </thead>\n  <tbody>\n    <tr>\n      <th>0</th>\n      <td>AAA</td>\n      <td>2013J</td>\n      <td>200.0</td>\n    </tr>\n    <tr>\n      <th>1</th>\n      <td>AAA</td>\n      <td>2014J</td>\n      <td>200.0</td>\n    </tr>\n    <tr>\n      <th>2</th>\n      <td>BBB</td>\n      <td>2013B</td>\n      <td>200.0</td>\n    </tr>\n    <tr>\n      <th>3</th>\n      <td>BBB</td>\n      <td>2013J</td>\n      <td>200.0</td>\n    </tr>\n    <tr>\n      <th>4</th>\n      <td>BBB</td>\n      <td>2014B</td>\n      <td>200.0</td>\n    </tr>\n    <tr>\n      <th>5</th>\n      <td>BBB</td>\n      <td>2014J</td>\n      <td>200.0</td>\n    </tr>\n    <tr>\n      <th>6</th>\n      <td>CCC</td>\n      <td>2014B</td>\n      <td>300.0</td>\n    </tr>\n    <tr>\n      <th>7</th>\n      <td>CCC</td>\n      <td>2014J</td>\n      <td>300.0</td>\n    </tr>\n    <tr>\n      <th>8</th>\n      <td>DDD</td>\n      <td>2013B</td>\n      <td>200.0</td>\n    </tr>\n    <tr>\n      <th>9</th>\n      <td>DDD</td>\n      <td>2013J</td>\n      <td>200.0</td>\n    </tr>\n    <tr>\n      <th>10</th>\n      <td>DDD</td>\n      <td>2014B</td>\n      <td>200.0</td>\n    </tr>\n    <tr>\n      <th>11</th>\n      <td>DDD</td>\n      <td>2014J</td>\n      <td>200.0</td>\n    </tr>\n    <tr>\n      <th>12</th>\n      <td>EEE</td>\n      <td>2013J</td>\n      <td>200.0</td>\n    </tr>\n    <tr>\n      <th>13</th>\n      <td>EEE</td>\n      <td>2014B</td>\n      <td>200.0</td>\n    </tr>\n    <tr>\n      <th>14</th>\n      <td>EEE</td>\n      <td>2014J</td>\n      <td>200.0</td>\n    </tr>\n    <tr>\n      <th>15</th>\n      <td>FFF</td>\n      <td>2013B</td>\n      <td>200.0</td>\n    </tr>\n    <tr>\n      <th>16</th>\n      <td>FFF</td>\n      <td>2013J</td>\n      <td>200.0</td>\n    </tr>\n    <tr>\n      <th>17</th>\n      <td>FFF</td>\n      <td>2014B</td>\n      <td>200.0</td>\n    </tr>\n    <tr>\n      <th>18</th>\n      <td>FFF</td>\n      <td>2014J</td>\n      <td>200.0</td>\n    </tr>\n    <tr>\n      <th>19</th>\n      <td>GGG</td>\n      <td>2013J</td>\n      <td>100.0</td>\n    </tr>\n    <tr>\n      <th>20</th>\n      <td>GGG</td>\n      <td>2014B</td>\n      <td>100.0</td>\n    </tr>\n    <tr>\n      <th>21</th>\n      <td>GGG</td>\n      <td>2014J</td>\n      <td>100.0</td>\n    </tr>\n  </tbody>\n</table>\n</div>"
     },
     "execution_count": 104,
     "metadata": {},
     "output_type": "execute_result"
    }
   ],
   "source": [
    "# Checking the weight on the assessment and presentation module.\n",
    "grouped_assessments = assessment.groupby(['code_module', 'code_presentation']).agg(total_weight = ('weight', sum))\n",
    "grouped_assessments.reset_index(inplace=True)\n",
    "grouped_assessments"
   ],
   "metadata": {
    "collapsed": false,
    "pycharm": {
     "name": "#%%\n"
    }
   }
  },
  {
   "cell_type": "code",
   "execution_count": 105,
   "outputs": [
    {
     "data": {
      "text/plain": "   code_module code_presentation assessment_type  type_weights\n0          CCC             2014B             CMA          25.0\n1          CCC             2014B            Exam         200.0\n2          CCC             2014B             TMA          75.0\n3          CCC             2014J             CMA          25.0\n4          CCC             2014J            Exam         200.0\n5          CCC             2014J             TMA          75.0\n6          GGG             2013J             CMA           0.0\n7          GGG             2013J            Exam         100.0\n8          GGG             2013J             TMA           0.0\n9          GGG             2014B             CMA           0.0\n10         GGG             2014B            Exam         100.0\n11         GGG             2014B             TMA           0.0\n12         GGG             2014J             CMA           0.0\n13         GGG             2014J            Exam         100.0\n14         GGG             2014J             TMA           0.0",
      "text/html": "<div>\n<style scoped>\n    .dataframe tbody tr th:only-of-type {\n        vertical-align: middle;\n    }\n\n    .dataframe tbody tr th {\n        vertical-align: top;\n    }\n\n    .dataframe thead th {\n        text-align: right;\n    }\n</style>\n<table border=\"1\" class=\"dataframe\">\n  <thead>\n    <tr style=\"text-align: right;\">\n      <th></th>\n      <th>code_module</th>\n      <th>code_presentation</th>\n      <th>assessment_type</th>\n      <th>type_weights</th>\n    </tr>\n  </thead>\n  <tbody>\n    <tr>\n      <th>0</th>\n      <td>CCC</td>\n      <td>2014B</td>\n      <td>CMA</td>\n      <td>25.0</td>\n    </tr>\n    <tr>\n      <th>1</th>\n      <td>CCC</td>\n      <td>2014B</td>\n      <td>Exam</td>\n      <td>200.0</td>\n    </tr>\n    <tr>\n      <th>2</th>\n      <td>CCC</td>\n      <td>2014B</td>\n      <td>TMA</td>\n      <td>75.0</td>\n    </tr>\n    <tr>\n      <th>3</th>\n      <td>CCC</td>\n      <td>2014J</td>\n      <td>CMA</td>\n      <td>25.0</td>\n    </tr>\n    <tr>\n      <th>4</th>\n      <td>CCC</td>\n      <td>2014J</td>\n      <td>Exam</td>\n      <td>200.0</td>\n    </tr>\n    <tr>\n      <th>5</th>\n      <td>CCC</td>\n      <td>2014J</td>\n      <td>TMA</td>\n      <td>75.0</td>\n    </tr>\n    <tr>\n      <th>6</th>\n      <td>GGG</td>\n      <td>2013J</td>\n      <td>CMA</td>\n      <td>0.0</td>\n    </tr>\n    <tr>\n      <th>7</th>\n      <td>GGG</td>\n      <td>2013J</td>\n      <td>Exam</td>\n      <td>100.0</td>\n    </tr>\n    <tr>\n      <th>8</th>\n      <td>GGG</td>\n      <td>2013J</td>\n      <td>TMA</td>\n      <td>0.0</td>\n    </tr>\n    <tr>\n      <th>9</th>\n      <td>GGG</td>\n      <td>2014B</td>\n      <td>CMA</td>\n      <td>0.0</td>\n    </tr>\n    <tr>\n      <th>10</th>\n      <td>GGG</td>\n      <td>2014B</td>\n      <td>Exam</td>\n      <td>100.0</td>\n    </tr>\n    <tr>\n      <th>11</th>\n      <td>GGG</td>\n      <td>2014B</td>\n      <td>TMA</td>\n      <td>0.0</td>\n    </tr>\n    <tr>\n      <th>12</th>\n      <td>GGG</td>\n      <td>2014J</td>\n      <td>CMA</td>\n      <td>0.0</td>\n    </tr>\n    <tr>\n      <th>13</th>\n      <td>GGG</td>\n      <td>2014J</td>\n      <td>Exam</td>\n      <td>100.0</td>\n    </tr>\n    <tr>\n      <th>14</th>\n      <td>GGG</td>\n      <td>2014J</td>\n      <td>TMA</td>\n      <td>0.0</td>\n    </tr>\n  </tbody>\n</table>\n</div>"
     },
     "execution_count": 105,
     "metadata": {},
     "output_type": "execute_result"
    }
   ],
   "source": [
    "filtered_assessments = assessment[(assessment['code_module'].isin([\"CCC\", \"GGG\"]))]\n",
    "\n",
    "# Group by specified columns and aggregate the sum of 'weight' as 'type_weights'\n",
    "grouped_assessments = filtered_assessments.groupby(['code_module', 'code_presentation', 'assessment_type']) \\\n",
    "    .agg(type_weights=('weight', 'sum'))\n",
    "\n",
    "# Reset index to make the DataFrame more readable\n",
    "grouped_assessments.reset_index(inplace=True)\n",
    "\n",
    "grouped_assessments"
   ],
   "metadata": {
    "collapsed": false,
    "pycharm": {
     "name": "#%%\n"
    }
   }
  },
  {
   "cell_type": "markdown",
   "source": [
    "Pada result code diatas terdapat weight yang error, di code_modul CCC dan GGG"
   ],
   "metadata": {
    "collapsed": false,
    "pycharm": {
     "name": "#%% md\n"
    }
   }
  },
  {
   "cell_type": "code",
   "execution_count": 106,
   "outputs": [],
   "source": [
    "#Weight Exam dibagi 2 untuk modul CCC\n",
    "assessment.loc[(assessment['code_module'] == 'CCC') & (assessment['assessment_type'] == 'Exam'), 'weight'] /= 2\n",
    "\n",
    "#Weight penilain TMA diupdate sebesar 100%\n",
    "assessment.loc[(assessment['code_module'] == 'GGG') & (assessment['assessment_type'] == 'TMA'), 'weight'] = 100 / 3"
   ],
   "metadata": {
    "collapsed": false,
    "pycharm": {
     "name": "#%%\n"
    }
   }
  },
  {
   "cell_type": "code",
   "execution_count": 107,
   "outputs": [],
   "source": [
    "# Merge the two tables on 'id_assessment' and calculate 'score*weight'\n",
    "merged_table = pd.merge(student_assess, assessment, on='id_assessment', how='left')\n",
    "merged_table['score*weight'] = (merged_table['score'] * merged_table['weight'])\n",
    "\n",
    "# Group by specified columns and aggregate sum of 'score*weight' and 'weight'\n",
    "grouped_marks = merged_table.groupby(['id_student', 'code_module', 'code_presentation'], as_index=False)[['score*weight', 'weight']].sum()\n",
    "\n",
    "# Calculate adjusted_mark and mark\n",
    "grouped_marks['adjusted_mark'] = grouped_marks['score*weight'] / grouped_marks['weight']\n",
    "grouped_marks['mark'] = grouped_marks['score*weight'] / 200\n",
    "\n",
    "# Rename columns\n",
    "grouped_marks.rename(columns={'total_score_weight': 'total_score*weight',\n",
    "                              'weight': 'attempted_weight'}, inplace=True)\n",
    "\n",
    "# Round off values\n",
    "grouped_marks = grouped_marks.round(1)"
   ],
   "metadata": {
    "collapsed": false,
    "pycharm": {
     "name": "#%%\n"
    }
   }
  },
  {
   "cell_type": "code",
   "execution_count": 108,
   "outputs": [],
   "source": [
    "# Merge marks and info_student to obtain a larger table with relevant information\n",
    "merged_table = pd.merge(grouped_marks, student_info, on=['id_student', 'code_module', 'code_presentation'], how='left')\n",
    "\n",
    "# Replace mark and adjusted_mark with NaN for rows where final_result is 'Withdrawn'\n",
    "merged_table.loc[merged_table.final_result=='Withdrawn','mark']= np.nan\n",
    "merged_table.loc[merged_table.final_result=='Withdrawn','adjusted_mark']= np.nan\n",
    "#merged_table.loc[merged_table['final_result'] == 'Withdrawn', ['mark', 'adjusted_mark']] = np.nan"
   ],
   "metadata": {
    "collapsed": false,
    "pycharm": {
     "name": "#%%\n"
    }
   }
  },
  {
   "cell_type": "code",
   "execution_count": 109,
   "outputs": [
    {
     "name": "stdout",
     "output_type": "stream",
     "text": [
      "Shape of merged_table: (25843, 17)\n"
     ]
    }
   ],
   "source": [
    "# Categories based on final_result\n",
    "distinction = merged_table[merged_table.final_result == \"Distinction\"].index\n",
    "passing = merged_table[merged_table.final_result == \"Pass\"].index\n",
    "fail = merged_table[merged_table.final_result == \"Fail\"].index\n",
    "withdraw = merged_table[merged_table.final_result == \"Withdraw\"].index\n",
    "\n",
    "# Categories based on attempted_weight\n",
    "attempt_weight200 = merged_table[merged_table.attempted_weight == 200].index\n",
    "attempt_weight150_200 = merged_table[(merged_table.attempted_weight >= 150) & (merged_table.attempted_weight != 200)].index\n",
    "attempt_weight0_150 = merged_table.index.difference(attempt_weight200).difference(attempt_weight150_200)\n",
    "\n",
    "# Categories based on adjusted_mark\n",
    "adj_mark80_100 = merged_table[merged_table.attempted_weight >= 80].index\n",
    "adj_mark70_80 = merged_table[(merged_table.attempted_weight >= 70) & (merged_table.attempted_weight < 80)].index\n",
    "adj_mark0_70 = merged_table[merged_table.attempted_weight < 70].index\n",
    "\n",
    "# Categories based on mark\n",
    "mark40_100 = merged_table[merged_table.attempted_weight >= 40].index\n",
    "mark0_40 = merged_table[merged_table.attempted_weight < 40].index\n",
    "\n",
    "print(\"Shape of merged_table:\", merged_table.shape)"
   ],
   "metadata": {
    "collapsed": false,
    "pycharm": {
     "name": "#%%\n"
    }
   }
  },
  {
   "cell_type": "code",
   "execution_count": 111,
   "outputs": [],
   "source": [
    "# Get common indices for Distinction\n",
    "distinction_indices = list(set(attempt_weight200).intersection(adj_mark80_100))\n",
    "merged_table.loc[distinction_indices, \"final_result\"] = \"Distinction\"\n",
    "\n",
    "# Get common indices for Pass\n",
    "pass_indices = list(set(attempt_weight200).intersection(adj_mark70_80))\n",
    "merged_table.loc[pass_indices, \"final_result\"] = \"Pass\"\n",
    "\n",
    "# Get common indices for Fail\n",
    "fail_indices = list(set(attempt_weight200).intersection(adj_mark0_70))\n",
    "merged_table.loc[fail_indices, \"final_result\"] = \"Fail\"\n",
    "\n",
    "# Get common indices for Attempted Weight between 150 and 200, and update final_result and adjusted_mark\n",
    "common_indices = list(set(attempt_weight150_200).intersection(passing).intersection(mark40_100))\n",
    "merged_table.loc[common_indices, \"final_result\"] = \"Distinction\"\n",
    "merged_table.loc[common_indices, \"adjusted_mark\"] = merged_table.loc[common_indices, \"mark\"]\n",
    "\n",
    "# Get common indices for Attempted Weight less than 150, and update adjusted_mark based on categories\n",
    "attempt_weight0_150_indices = list(attempt_weight0_150)\n",
    "distinction_indices_0_150 = list(set(attempt_weight0_150_indices).intersection(distinction))\n",
    "pass_indices_0_150 = list(set(attempt_weight0_150_indices).intersection(passing))\n",
    "fail_indices_0_150 = list(set(attempt_weight0_150_indices).intersection(fail))\n",
    "\n",
    "# Sort the indices based on mark and update adjusted_mark accordingly\n",
    "merged_table.loc[sorted(distinction_indices_0_150, key=lambda i: merged_table.loc[i, \"mark\"]), \"adjusted_mark\"] = np.arange(70.0, 100.0, 30/len(distinction_indices_0_150))\n",
    "merged_table.loc[sorted(pass_indices_0_150, key=lambda i: merged_table.loc[i, \"mark\"]), \"adjusted_mark\"] = np.arange(40.0, 70.0, 30/len(pass_indices_0_150))\n",
    "merged_table.loc[sorted(fail_indices_0_150, key=lambda i: merged_table.loc[i, \"mark\"]), \"adjusted_mark\"] = np.arange(0.0, 40.0, 40/len(fail_indices_0_150))\n",
    "\n",
    "df = merged_table"
   ],
   "metadata": {
    "collapsed": false,
    "pycharm": {
     "name": "#%%\n"
    }
   }
  }
 ],
 "metadata": {
  "kernelspec": {
   "display_name": "Python 3",
   "language": "python",
   "name": "python3"
  },
  "language_info": {
   "codemirror_mode": {
    "name": "ipython",
    "version": 2
   },
   "file_extension": ".py",
   "mimetype": "text/x-python",
   "name": "python",
   "nbconvert_exporter": "python",
   "pygments_lexer": "ipython2",
   "version": "2.7.6"
  }
 },
 "nbformat": 4,
 "nbformat_minor": 0
}