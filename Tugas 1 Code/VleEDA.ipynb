{
 "cells": [
  {
   "cell_type": "code",
   "execution_count": 1,
   "metadata": {
    "collapsed": true,
    "pycharm": {
     "name": "#%%\n"
    }
   },
   "outputs": [],
   "source": [
    "import numpy as np\n",
    "import pandas as pd\n",
    "import matplotlib.pyplot as plt"
   ]
  },
  {
   "cell_type": "code",
   "execution_count": 2,
   "outputs": [],
   "source": [
    "df_vle = pd.read_csv('Datasets/vle.csv')"
   ],
   "metadata": {
    "collapsed": false,
    "pycharm": {
     "name": "#%%\n"
    }
   }
  },
  {
   "cell_type": "code",
   "execution_count": 3,
   "outputs": [
    {
     "data": {
      "text/plain": "   id_site code_module code_presentation activity_type  week_from  week_to\n0   546943         AAA             2013J      resource        NaN      NaN\n1   546712         AAA             2013J     oucontent        NaN      NaN\n2   546998         AAA             2013J      resource        NaN      NaN\n3   546888         AAA             2013J           url        NaN      NaN\n4   547035         AAA             2013J      resource        NaN      NaN",
      "text/html": "<div>\n<style scoped>\n    .dataframe tbody tr th:only-of-type {\n        vertical-align: middle;\n    }\n\n    .dataframe tbody tr th {\n        vertical-align: top;\n    }\n\n    .dataframe thead th {\n        text-align: right;\n    }\n</style>\n<table border=\"1\" class=\"dataframe\">\n  <thead>\n    <tr style=\"text-align: right;\">\n      <th></th>\n      <th>id_site</th>\n      <th>code_module</th>\n      <th>code_presentation</th>\n      <th>activity_type</th>\n      <th>week_from</th>\n      <th>week_to</th>\n    </tr>\n  </thead>\n  <tbody>\n    <tr>\n      <th>0</th>\n      <td>546943</td>\n      <td>AAA</td>\n      <td>2013J</td>\n      <td>resource</td>\n      <td>NaN</td>\n      <td>NaN</td>\n    </tr>\n    <tr>\n      <th>1</th>\n      <td>546712</td>\n      <td>AAA</td>\n      <td>2013J</td>\n      <td>oucontent</td>\n      <td>NaN</td>\n      <td>NaN</td>\n    </tr>\n    <tr>\n      <th>2</th>\n      <td>546998</td>\n      <td>AAA</td>\n      <td>2013J</td>\n      <td>resource</td>\n      <td>NaN</td>\n      <td>NaN</td>\n    </tr>\n    <tr>\n      <th>3</th>\n      <td>546888</td>\n      <td>AAA</td>\n      <td>2013J</td>\n      <td>url</td>\n      <td>NaN</td>\n      <td>NaN</td>\n    </tr>\n    <tr>\n      <th>4</th>\n      <td>547035</td>\n      <td>AAA</td>\n      <td>2013J</td>\n      <td>resource</td>\n      <td>NaN</td>\n      <td>NaN</td>\n    </tr>\n  </tbody>\n</table>\n</div>"
     },
     "execution_count": 3,
     "metadata": {},
     "output_type": "execute_result"
    }
   ],
   "source": [
    "# Menampilkan 5 baris teratas pada Vle\n",
    "df_vle.head()"
   ],
   "metadata": {
    "collapsed": false,
    "pycharm": {
     "name": "#%%\n"
    }
   }
  },
  {
   "cell_type": "code",
   "execution_count": 4,
   "outputs": [
    {
     "data": {
      "text/plain": "      id_site code_module code_presentation activity_type  week_from  week_to\n6359   897063         GGG             2014J      resource        NaN      NaN\n6360   897109         GGG             2014J      resource        NaN      NaN\n6361   896965         GGG             2014J     oucontent        NaN      NaN\n6362   897060         GGG             2014J      resource        NaN      NaN\n6363   897100         GGG             2014J      resource        NaN      NaN",
      "text/html": "<div>\n<style scoped>\n    .dataframe tbody tr th:only-of-type {\n        vertical-align: middle;\n    }\n\n    .dataframe tbody tr th {\n        vertical-align: top;\n    }\n\n    .dataframe thead th {\n        text-align: right;\n    }\n</style>\n<table border=\"1\" class=\"dataframe\">\n  <thead>\n    <tr style=\"text-align: right;\">\n      <th></th>\n      <th>id_site</th>\n      <th>code_module</th>\n      <th>code_presentation</th>\n      <th>activity_type</th>\n      <th>week_from</th>\n      <th>week_to</th>\n    </tr>\n  </thead>\n  <tbody>\n    <tr>\n      <th>6359</th>\n      <td>897063</td>\n      <td>GGG</td>\n      <td>2014J</td>\n      <td>resource</td>\n      <td>NaN</td>\n      <td>NaN</td>\n    </tr>\n    <tr>\n      <th>6360</th>\n      <td>897109</td>\n      <td>GGG</td>\n      <td>2014J</td>\n      <td>resource</td>\n      <td>NaN</td>\n      <td>NaN</td>\n    </tr>\n    <tr>\n      <th>6361</th>\n      <td>896965</td>\n      <td>GGG</td>\n      <td>2014J</td>\n      <td>oucontent</td>\n      <td>NaN</td>\n      <td>NaN</td>\n    </tr>\n    <tr>\n      <th>6362</th>\n      <td>897060</td>\n      <td>GGG</td>\n      <td>2014J</td>\n      <td>resource</td>\n      <td>NaN</td>\n      <td>NaN</td>\n    </tr>\n    <tr>\n      <th>6363</th>\n      <td>897100</td>\n      <td>GGG</td>\n      <td>2014J</td>\n      <td>resource</td>\n      <td>NaN</td>\n      <td>NaN</td>\n    </tr>\n  </tbody>\n</table>\n</div>"
     },
     "execution_count": 4,
     "metadata": {},
     "output_type": "execute_result"
    }
   ],
   "source": [
    "# Menampilkan 5 baris terakhir pada Vle\n",
    "df_vle.tail()"
   ],
   "metadata": {
    "collapsed": false,
    "pycharm": {
     "name": "#%%\n"
    }
   }
  },
  {
   "cell_type": "code",
   "execution_count": 5,
   "outputs": [
    {
     "name": "stdout",
     "output_type": "stream",
     "text": [
      "Count missing value: \n",
      "\n"
     ]
    },
    {
     "data": {
      "text/plain": "id_site                 0\ncode_module             0\ncode_presentation       0\nactivity_type           0\nweek_from            5243\nweek_to              5243\ndtype: int64"
     },
     "execution_count": 5,
     "metadata": {},
     "output_type": "execute_result"
    }
   ],
   "source": [
    "print(\"Count missing value: \\n\")\n",
    "df_vle.isnull().sum()"
   ],
   "metadata": {
    "collapsed": false,
    "pycharm": {
     "name": "#%%\n"
    }
   }
  },
  {
   "cell_type": "code",
   "execution_count": 6,
   "outputs": [
    {
     "data": {
      "text/plain": "            id_site    week_from      week_to\ncount  6.364000e+03  1121.000000  1121.000000\nmean   7.260991e+05    15.204282    15.214987\nstd    1.283151e+05     8.792865     8.779806\nmin    5.267210e+05     0.000000     0.000000\n25%    6.615928e+05     8.000000     8.000000\n50%    7.300965e+05    15.000000    15.000000\n75%    8.140162e+05    22.000000    22.000000\nmax    1.077905e+06    29.000000    29.000000",
      "text/html": "<div>\n<style scoped>\n    .dataframe tbody tr th:only-of-type {\n        vertical-align: middle;\n    }\n\n    .dataframe tbody tr th {\n        vertical-align: top;\n    }\n\n    .dataframe thead th {\n        text-align: right;\n    }\n</style>\n<table border=\"1\" class=\"dataframe\">\n  <thead>\n    <tr style=\"text-align: right;\">\n      <th></th>\n      <th>id_site</th>\n      <th>week_from</th>\n      <th>week_to</th>\n    </tr>\n  </thead>\n  <tbody>\n    <tr>\n      <th>count</th>\n      <td>6.364000e+03</td>\n      <td>1121.000000</td>\n      <td>1121.000000</td>\n    </tr>\n    <tr>\n      <th>mean</th>\n      <td>7.260991e+05</td>\n      <td>15.204282</td>\n      <td>15.214987</td>\n    </tr>\n    <tr>\n      <th>std</th>\n      <td>1.283151e+05</td>\n      <td>8.792865</td>\n      <td>8.779806</td>\n    </tr>\n    <tr>\n      <th>min</th>\n      <td>5.267210e+05</td>\n      <td>0.000000</td>\n      <td>0.000000</td>\n    </tr>\n    <tr>\n      <th>25%</th>\n      <td>6.615928e+05</td>\n      <td>8.000000</td>\n      <td>8.000000</td>\n    </tr>\n    <tr>\n      <th>50%</th>\n      <td>7.300965e+05</td>\n      <td>15.000000</td>\n      <td>15.000000</td>\n    </tr>\n    <tr>\n      <th>75%</th>\n      <td>8.140162e+05</td>\n      <td>22.000000</td>\n      <td>22.000000</td>\n    </tr>\n    <tr>\n      <th>max</th>\n      <td>1.077905e+06</td>\n      <td>29.000000</td>\n      <td>29.000000</td>\n    </tr>\n  </tbody>\n</table>\n</div>"
     },
     "execution_count": 6,
     "metadata": {},
     "output_type": "execute_result"
    }
   ],
   "source": [
    "#Mendeskripsikan secara statistik pada feature numerik\n",
    "df_vle.describe()"
   ],
   "metadata": {
    "collapsed": false,
    "pycharm": {
     "name": "#%%\n"
    }
   }
  },
  {
   "cell_type": "code",
   "execution_count": 7,
   "outputs": [
    {
     "name": "stdout",
     "output_type": "stream",
     "text": [
      "<class 'pandas.core.frame.DataFrame'>\n",
      "RangeIndex: 6364 entries, 0 to 6363\n",
      "Data columns (total 6 columns):\n",
      " #   Column             Non-Null Count  Dtype  \n",
      "---  ------             --------------  -----  \n",
      " 0   id_site            6364 non-null   int64  \n",
      " 1   code_module        6364 non-null   object \n",
      " 2   code_presentation  6364 non-null   object \n",
      " 3   activity_type      6364 non-null   object \n",
      " 4   week_from          1121 non-null   float64\n",
      " 5   week_to            1121 non-null   float64\n",
      "dtypes: float64(2), int64(1), object(3)\n",
      "memory usage: 298.4+ KB\n"
     ]
    }
   ],
   "source": [
    "# Menampilkan struktur dan tipe data pada datasets\n",
    "df_vle.info()"
   ],
   "metadata": {
    "collapsed": false,
    "pycharm": {
     "name": "#%%\n"
    }
   }
  },
  {
   "cell_type": "code",
   "execution_count": null,
   "outputs": [],
   "source": [],
   "metadata": {
    "collapsed": false,
    "pycharm": {
     "name": "#%%\n"
    }
   }
  }
 ],
 "metadata": {
  "kernelspec": {
   "display_name": "Python 3",
   "language": "python",
   "name": "python3"
  },
  "language_info": {
   "codemirror_mode": {
    "name": "ipython",
    "version": 2
   },
   "file_extension": ".py",
   "mimetype": "text/x-python",
   "name": "python",
   "nbconvert_exporter": "python",
   "pygments_lexer": "ipython2",
   "version": "2.7.6"
  }
 },
 "nbformat": 4,
 "nbformat_minor": 0
}